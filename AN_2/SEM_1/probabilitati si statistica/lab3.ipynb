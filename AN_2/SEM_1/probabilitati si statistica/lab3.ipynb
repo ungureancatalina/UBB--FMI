{
  "cells": [
    {
      "cell_type": "code",
      "execution_count": 8,
      "metadata": {
        "trusted": true
      },
      "outputs": [],
      "source": [
        "from random import choices, sample\n",
        "from math import comb, perm"
      ]
    },
    {
      "cell_type": "code",
      "execution_count": null,
      "metadata": {
        "trusted": true
      },
      "outputs": [],
      "source": [
        "help('random.choices')"
      ]
    },
    {
      "cell_type": "code",
      "execution_count": null,
      "metadata": {
        "trusted": true
      },
      "outputs": [],
      "source": [
        "help('random.sample')"
      ]
    },
    {
      "cell_type": "code",
      "execution_count": 31,
      "metadata": {
        "trusted": true
      },
      "outputs": [],
      "source": [
        "def ex1():\n",
        "    nr_cel_putin_una_rosie = 0\n",
        "    nr_toate_rosii = 0\n",
        "    for i in range (1000):\n",
        "        nr_rosii_extrase = 0 \n",
        "        lista_init = ['r','r','r','r','r','v','v','a','a','a']\n",
        "        elems = sample(lista_init,3)\n",
        "        for k in range (3):\n",
        "            if elems[k] == 'r':\n",
        "                nr_rosii_extrase +=1\n",
        "        if nr_rosii_extrase > 0:\n",
        "            nr_cel_putin_una_rosie +=1\n",
        "            if nr_rosii_extrase == 3:\n",
        "                nr_toate_rosii +=1\n",
        "    print(\"Valoarea dupa simulari:\", (nr_toate_rosii/1000)/(nr_cel_putin_una_rosie/1000))\n",
        "    pA = 1 - comb(5, 0)*comb(5,3) / comb(10, 3)\n",
        "    pAB = (comb(5, 3)+comb(3,3)+comb(2,3)) / comb(10, 3)\n",
        "\n",
        "    print(\"Valoarea teoretica a P(B|A) = \", pAB / pA)           "
      ]
    },
    {
      "cell_type": "code",
      "execution_count": null,
      "metadata": {
        "trusted": true
      },
      "outputs": [],
      "source": [
        "ex1()"
      ]
    },
    {
      "cell_type": "code",
      "execution_count": 36,
      "metadata": {
        "trusted": true
      },
      "outputs": [],
      "source": [
        "from random import randrange\n",
        "from matplotlib.pyplot import bar, hist, grid, show, legend"
      ]
    },
    {
      "cell_type": "code",
      "execution_count": 46,
      "metadata": {
        "trusted": true
      },
      "outputs": [],
      "source": [
        "def ex2():\n",
        "    data = [randrange(0,7) for _ in range(500)]\n",
        "    bin_edges = [k+0.5 for k in range(0,7)]\n",
        "    hist(data, bin_edges, density = True, rwidth = 0.9, color = 'green', edgecolor = 'black',\n",
        "    alpha = 0.5, label = 'frecvente relative')\n",
        "    distribution = dict([(i,1/6) for i in range(1,7)])\n",
        "    bar(distribution.keys(), distribution.values(), width = 0.85, color = 'red', edgecolor = 'black',\n",
        "    alpha= 0.6, label = 'probabilitati')\n",
        "    legend(loc = 'lower left')\n",
        "    grid()\n",
        "    show()"
      ]
    },
    {
      "cell_type": "code",
      "execution_count": null,
      "metadata": {
        "trusted": true
      },
      "outputs": [],
      "source": [
        "ex2()"
      ]
    },
    {
      "cell_type": "code",
      "execution_count": null,
      "metadata": {
        "trusted": true
      },
      "outputs": [],
      "source": [
        "from scipy.stats import binom\n",
        "help('scipy.stats.binom.rvs')\n",
        "#help('scipy.stats.binom.pmf')\n",
        "#help('scipy.stats.binom.cdf')"
      ]
    },
    {
      "cell_type": "code",
      "execution_count": 78,
      "metadata": {
        "trusted": true
      },
      "outputs": [],
      "source": [
        "def ex3():\n",
        "    data = binom.rvs(n=5,p=6/10,size=1000)\n",
        "    bin_edges = [k+0.5 for k in range(-1,6)]\n",
        "    hist(data, bin_edges, density = True, rwidth = 0.9, color = 'green', edgecolor = 'black',\n",
        "    alpha = 0.5, label = 'frecvente relative')\n",
        "    distribution = dict([(i,binom.pmf(i,n=5,p=6/10)) for i in range(0,6)])\n",
        "    bar(distribution.keys(), distribution.values(), width = 0.85, color = 'red', edgecolor = 'black',\n",
        "    alpha= 0.6, label = 'probabilitati')\n",
        "    legend(loc = 'lower left')\n",
        "    grid()\n",
        "    show()"
      ]
    },
    {
      "cell_type": "code",
      "execution_count": null,
      "metadata": {
        "trusted": true
      },
      "outputs": [],
      "source": [
        "ex3()"
      ]
    },
    {
      "cell_type": "code",
      "execution_count": null,
      "metadata": {
        "trusted": true
      },
      "outputs": [],
      "source": [
        "data = binom.rvs(n=5,p=6/10,size=1000)\n",
        "print(sum(2<x<=5 for x in data)/len(data))"
      ]
    }
  ],
  "metadata": {
    "kernelspec": {
      "display_name": "Python (Pyodide)",
      "language": "python",
      "name": "python"
    },
    "language_info": {
      "codemirror_mode": {
        "name": "python",
        "version": 3
      },
      "file_extension": ".py",
      "mimetype": "text/x-python",
      "name": "python",
      "nbconvert_exporter": "python",
      "pygments_lexer": "ipython3",
      "version": "3.8"
    }
  },
  "nbformat": 4,
  "nbformat_minor": 4
}
