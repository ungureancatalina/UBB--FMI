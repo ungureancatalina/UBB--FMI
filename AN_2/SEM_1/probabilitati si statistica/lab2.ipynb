{
  "cells": [
    {
      "cell_type": "code",
      "execution_count": null,
      "metadata": {
        "scrolled": true,
        "trusted": true
      },
      "outputs": [],
      "source": [
        "from random import randint\n",
        "help('random.randint')\n",
        "set"
      ]
    },
    {
      "cell_type": "code",
      "execution_count": 2,
      "metadata": {
        "trusted": true
      },
      "outputs": [],
      "source": [
        "def simulare_probabilitate_aceeasi_zi_de_nastere(n):\n",
        "    cazuri_succes = 0\n",
        "    for _ in range(10000):\n",
        "        lista_random_zile = []\n",
        "        for i in range(n):\n",
        "            zi = randint(1,365)\n",
        "            lista_random_zile.append(zi)\n",
        "        if len(lista_random_zile) != len(set(lista_random_zile)):\n",
        "            cazuri_succes +=1\n",
        "    probabilitate = cazuri_succes / 10000\n",
        "    return probabilitate"
      ]
    },
    {
      "cell_type": "code",
      "execution_count": null,
      "metadata": {
        "trusted": true
      },
      "outputs": [],
      "source": [
        "n=26\n",
        "probabilitate = simulare_probabilitate_aceeasi_zi_de_nastere(n)\n",
        "print(f\"Probabilitatea ca într-un grup de {n} persoane să existe cel puțin două cu aceeași zi de naștere este de {probabilitate:.4f}\")"
      ]
    },
    {
      "cell_type": "code",
      "execution_count": 4,
      "metadata": {
        "trusted": true
      },
      "outputs": [],
      "source": [
        "def probabilitate_exacta_aceeasi_zi_de_nastere(n):\n",
        "    if n>=365:\n",
        "        return 1.0\n",
        "    probabilitate_zile_diferite = 1.0\n",
        "    for i in range(n):\n",
        "        probabilitate_zile_diferite *= (365-i)/365\n",
        "    probabilitate = 1-probabilitate_zile_diferite #1-complementul\n",
        "    #sau\n",
        "    #probabilitate = perm(365,n)/(365**n)\n",
        "    return probabilitate\n",
        "        "
      ]
    },
    {
      "cell_type": "code",
      "execution_count": null,
      "metadata": {
        "trusted": true
      },
      "outputs": [],
      "source": [
        "n=6\n",
        "probabilitate = probabilitate_exacta_aceeasi_zi_de_nastere(n)\n",
        "print(f\"Probabilitatea ca într-un grup de {n} persoane să existe cel puțin două cu aceeași zi de naștere este de {probabilitate:.4f}\")"
      ]
    },
    {
      "cell_type": "code",
      "execution_count": 6,
      "metadata": {
        "trusted": true
      },
      "outputs": [],
      "source": [
        "from matplotlib.pyplot import plot, grid, title, show\n",
        "#help('matplotlib.pyplot.plot')"
      ]
    },
    {
      "cell_type": "code",
      "execution_count": null,
      "metadata": {
        "trusted": true
      },
      "outputs": [],
      "source": [
        "title('Grafic simulare probabilitate')\n",
        "xs = range(2,51)\n",
        "ys = [simulare_probabilitate_aceeasi_zi_de_nastere(x) for x in xs]\n",
        "plot(xs,ys,'r*')\n",
        "grid()\n",
        "show()"
      ]
    },
    {
      "cell_type": "code",
      "execution_count": null,
      "metadata": {
        "trusted": true
      },
      "outputs": [],
      "source": [
        "title('Grafic probabilitate exacta')\n",
        "xs = range(2,51)\n",
        "ys = [probabilitate_exacta_aceeasi_zi_de_nastere(x) for x in xs]\n",
        "plot(xs,ys,'r*')\n",
        "grid()\n",
        "show()"
      ]
    },
    {
      "cell_type": "code",
      "execution_count": null,
      "metadata": {
        "trusted": true
      },
      "outputs": [],
      "source": [
        "from matplotlib.pyplot import axis, plot, show\n",
        "from random import random\n",
        "from math import dist\n",
        "help('random.random')\n",
        "help('math.dist')"
      ]
    },
    {
      "cell_type": "code",
      "execution_count": null,
      "metadata": {
        "trusted": true
      },
      "outputs": [],
      "source": [
        "help('matplotlib.pyplot.axis')"
      ]
    },
    {
      "cell_type": "code",
      "execution_count": null,
      "metadata": {
        "trusted": true
      },
      "outputs": [],
      "source": [
        "axis('square')\n",
        "axis((0, 1, 0, 1))\n",
        "for i in range(30):\n",
        "    F=[random(),random()]\n",
        "    plot(F[0],F[1],'go')\n",
        "show()"
      ]
    },
    {
      "cell_type": "code",
      "execution_count": 35,
      "metadata": {
        "trusted": true
      },
      "outputs": [],
      "source": [
        "def e_in_cercul_circumscris(punct):\n",
        "    if dist(punct,(0.5,0.5)) < 0.5:\n",
        "        return True\n",
        "    return False\n",
        "\n",
        "def e_mai_aproape_de_centru(punct,centru,varfuri):\n",
        "    if dist(punct,centru) < dist(punct,varfuri[0]) and dist(punct,centru) < dist(punct,varfuri[1]) and dist(punct,centru) < dist(punct,varfuri[2]) and dist(punct,centru) < dist(punct,varfuri[3]):\n",
        "        return True\n",
        "    return False\n",
        "\n",
        "def e_obtuzunghic(punct, varf1, varf2):\n",
        "    d1 = dist(punct, varf1)\n",
        "    d2 = dist(punct, varf2)\n",
        "\n",
        "    if d1**2 + d2**2 > 1:\n",
        "        return 1\n",
        "    return 0\n",
        "        \n",
        "def generare_puncte_pentru_caz(n,caz):\n",
        "    axis('square')\n",
        "    axis([0, 1, 0, 1])\n",
        "    centru = (0.5,0.5)\n",
        "    raza = 0.5\n",
        "    varfuri = [(0,0),(1,0),(1,1),(0,1)]\n",
        "    puncte = [(random(),random()) for i in range(n)]\n",
        "    if caz==1:\n",
        "        contor = 0\n",
        "        for punct in puncte:\n",
        "            if e_in_cercul_circumscris(punct):\n",
        "                contor+=1\n",
        "                plot(punct[0], punct[1], 'go')\n",
        "            else:\n",
        "                plot(punct[0], punct[1], 'ro')\n",
        "        frecventa = contor / n * 4\n",
        "        print(f\"Frecventa relativa pentru punctele in interiorul cercului inscris: {frecventa:.4f}\")\n",
        "    elif caz==2:\n",
        "        contor=0\n",
        "        for punct in puncte:\n",
        "            if e_mai_aproape_de_centru(punct,centru,varfuri):\n",
        "                contor +=1\n",
        "                apropiate_de_centru.append(punct)\n",
        "                plot(punct[0], punct[1], 'go')\n",
        "            else:\n",
        "                plot(punct[0], punct[1], 'ro')\n",
        "        frecventa = contor / n\n",
        "        print(f\"Frecventa relativa pentru punctele mai apropiate de centru decat de varfuri: {frecventa:.4f}\")\n",
        "    elif caz==3:\n",
        "        puncte_asc_obt = []\n",
        "        for punct in puncte:\n",
        "            nr_obtuze = e_obtuzunghic(punct,varfuri[0],varfuri[1])+e_obtuzunghic(punct,varfuri[0],varfuri[3])+e_obtuzunghic(punct,varfuri[2],varfuri[1])+e_obtuzunghic(punct,varfuri[2],varfuri[3])\n",
        "            if nr_obtuze == 2:\n",
        "                puncte_asc_obt.append(punct)\n",
        "                plot(punct[0], punct[1], 'go')\n",
        "            else:\n",
        "                plot(punct[0], punct[1], 'ro')\n",
        "        frecventa = len(puncte_asc_obt) / n\n",
        "        print(f\"Frecventa relativa pentru punctele care formeaza doua triunghiurui ascutitunghice si doua obtuzunghice: {frecventa:.4f}\")\n",
        "    show()"
      ]
    },
    {
      "cell_type": "code",
      "execution_count": null,
      "metadata": {
        "trusted": true
      },
      "outputs": [],
      "source": [
        "generare_puncte_pentru_caz(2000,1)"
      ]
    },
    {
      "cell_type": "code",
      "execution_count": null,
      "metadata": {
        "trusted": true
      },
      "outputs": [],
      "source": [
        "generare_puncte_pentru_caz(2000,2)"
      ]
    },
    {
      "cell_type": "code",
      "execution_count": null,
      "metadata": {
        "trusted": true
      },
      "outputs": [],
      "source": [
        "generare_puncte_pentru_caz(2000,3)"
      ]
    }
  ],
  "metadata": {
    "kernelspec": {
      "display_name": "Python (Pyodide)",
      "language": "python",
      "name": "python"
    },
    "language_info": {
      "codemirror_mode": {
        "name": "python",
        "version": 3
      },
      "file_extension": ".py",
      "mimetype": "text/x-python",
      "name": "python",
      "nbconvert_exporter": "python",
      "pygments_lexer": "ipython3",
      "version": "3.8"
    }
  },
  "nbformat": 4,
  "nbformat_minor": 4
}
