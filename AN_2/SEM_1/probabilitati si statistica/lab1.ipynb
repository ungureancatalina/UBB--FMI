{
  "metadata": {
    "kernelspec": {
      "name": "python",
      "display_name": "Python (Pyodide)",
      "language": "python"
    },
    "language_info": {
      "codemirror_mode": {
        "name": "python",
        "version": 3
      },
      "file_extension": ".py",
      "mimetype": "text/x-python",
      "name": "python",
      "nbconvert_exporter": "python",
      "pygments_lexer": "ipython3",
      "version": "3.8"
    }
  },
  "nbformat_minor": 4,
  "nbformat": 4,
  "cells": [
    {
      "cell_type": "code",
      "source": "from random import sample\nfrom math import factorial\nfrom itertools import permutations\n",
      "metadata": {
        "trusted": true
      },
      "outputs": [],
      "execution_count": 2
    },
    {
      "cell_type": "code",
      "source": "list(permutations([1,2,3]))\n",
      "metadata": {
        "trusted": true
      },
      "outputs": [
        {
          "execution_count": 4,
          "output_type": "execute_result",
          "data": {
            "text/plain": "[(1, 2, 3), (1, 3, 2), (2, 1, 3), (2, 3, 1), (3, 1, 2), (3, 2, 1)]"
          },
          "metadata": {}
        }
      ],
      "execution_count": 4
    },
    {
      "cell_type": "code",
      "source": "list(permutations(\"word\"))\n",
      "metadata": {
        "trusted": true
      },
      "outputs": [
        {
          "execution_count": 7,
          "output_type": "execute_result",
          "data": {
            "text/plain": "[('w', 'o', 'r', 'd'),\n ('w', 'o', 'd', 'r'),\n ('w', 'r', 'o', 'd'),\n ('w', 'r', 'd', 'o'),\n ('w', 'd', 'o', 'r'),\n ('w', 'd', 'r', 'o'),\n ('o', 'w', 'r', 'd'),\n ('o', 'w', 'd', 'r'),\n ('o', 'r', 'w', 'd'),\n ('o', 'r', 'd', 'w'),\n ('o', 'd', 'w', 'r'),\n ('o', 'd', 'r', 'w'),\n ('r', 'w', 'o', 'd'),\n ('r', 'w', 'd', 'o'),\n ('r', 'o', 'w', 'd'),\n ('r', 'o', 'd', 'w'),\n ('r', 'd', 'w', 'o'),\n ('r', 'd', 'o', 'w'),\n ('d', 'w', 'o', 'r'),\n ('d', 'w', 'r', 'o'),\n ('d', 'o', 'w', 'r'),\n ('d', 'o', 'r', 'w'),\n ('d', 'r', 'w', 'o'),\n ('d', 'r', 'o', 'w')]"
          },
          "metadata": {}
        }
      ],
      "execution_count": 7
    },
    {
      "cell_type": "code",
      "source": "factorial(len(\"word\"))\n",
      "metadata": {
        "trusted": true
      },
      "outputs": [
        {
          "execution_count": 18,
          "output_type": "execute_result",
          "data": {
            "text/plain": "24"
          },
          "metadata": {}
        }
      ],
      "execution_count": 18
    },
    {
      "cell_type": "code",
      "source": "sample(\"word\",len(\"word\"))",
      "metadata": {
        "trusted": true
      },
      "outputs": [
        {
          "execution_count": 20,
          "output_type": "execute_result",
          "data": {
            "text/plain": "['w', 'd', 'o', 'r']"
          },
          "metadata": {}
        }
      ],
      "execution_count": 20
    },
    {
      "cell_type": "code",
      "source": "from random import sample\nfrom math import perm, comb\nfrom itertools import permutations, combinations\n",
      "metadata": {
        "trusted": true
      },
      "outputs": [],
      "execution_count": 17
    },
    {
      "cell_type": "code",
      "source": "def aranjamente(cuv,nr,numar_total=False,aleator=False):\n    if numar_total==True:\n        return perm(len(cuv),nr)\n    elif aleator==True:\n        return sample(cuv,nr)\n    else:\n        return list(permutations(cuv,nr))\n            ",
      "metadata": {
        "trusted": true
      },
      "outputs": [],
      "execution_count": 26
    },
    {
      "cell_type": "code",
      "source": "aranjamente(\"word\",2)",
      "metadata": {
        "trusted": true
      },
      "outputs": [
        {
          "execution_count": 27,
          "output_type": "execute_result",
          "data": {
            "text/plain": "[('w', 'o'),\n ('w', 'r'),\n ('w', 'd'),\n ('o', 'w'),\n ('o', 'r'),\n ('o', 'd'),\n ('r', 'w'),\n ('r', 'o'),\n ('r', 'd'),\n ('d', 'w'),\n ('d', 'o'),\n ('d', 'r')]"
          },
          "metadata": {}
        }
      ],
      "execution_count": 27
    },
    {
      "cell_type": "code",
      "source": "aranjamente(\"word\",2,aleator=True)",
      "metadata": {
        "trusted": true
      },
      "outputs": [
        {
          "execution_count": 28,
          "output_type": "execute_result",
          "data": {
            "text/plain": "['o', 'd']"
          },
          "metadata": {}
        }
      ],
      "execution_count": 28
    },
    {
      "cell_type": "code",
      "source": "aranjamente(\"word\",2,numar_total=True)\n",
      "metadata": {
        "trusted": true
      },
      "outputs": [
        {
          "execution_count": 29,
          "output_type": "execute_result",
          "data": {
            "text/plain": "12"
          },
          "metadata": {}
        }
      ],
      "execution_count": 29
    },
    {
      "cell_type": "code",
      "source": "def combinari(cuv,nr,numar_total=False,aleator=False):\n    if numar_total==True:\n        return comb(len(cuv),nr)\n    elif aleator==True:\n        rez = []\n        for i in sorted(sample(list(range(len(cuv))),nr)):\n            rez.append(cuv[i])\n        print (rez)\n    else:\n        return list(combinations(cuv,nr))\n            ",
      "metadata": {
        "trusted": true
      },
      "outputs": [],
      "execution_count": 54
    },
    {
      "cell_type": "code",
      "source": "\ncombinari(\"word\",2)\n",
      "metadata": {
        "trusted": true
      },
      "outputs": [
        {
          "execution_count": 55,
          "output_type": "execute_result",
          "data": {
            "text/plain": "[('w', 'o'), ('w', 'r'), ('w', 'd'), ('o', 'r'), ('o', 'd'), ('r', 'd')]"
          },
          "metadata": {}
        }
      ],
      "execution_count": 55
    },
    {
      "cell_type": "code",
      "source": "combinari('word',2,numar_total=True)",
      "metadata": {
        "trusted": true
      },
      "outputs": [
        {
          "execution_count": 56,
          "output_type": "execute_result",
          "data": {
            "text/plain": "6"
          },
          "metadata": {}
        }
      ],
      "execution_count": 56
    },
    {
      "cell_type": "code",
      "source": "combinari('word',2,aleator=True)",
      "metadata": {
        "trusted": true
      },
      "outputs": [
        {
          "name": "stdout",
          "text": "['o', 'r']\n",
          "output_type": "stream"
        }
      ],
      "execution_count": 57
    },
    {
      "cell_type": "code",
      "source": "from itertools import combinations_with_replacement",
      "metadata": {
        "trusted": true
      },
      "outputs": [],
      "execution_count": 36
    },
    {
      "cell_type": "code",
      "source": "list(combinations_with_replacement(\"ABCDE\",4))",
      "metadata": {
        "trusted": true
      },
      "outputs": [
        {
          "execution_count": 38,
          "output_type": "execute_result",
          "data": {
            "text/plain": "[('A', 'A', 'A', 'A'),\n ('A', 'A', 'A', 'B'),\n ('A', 'A', 'A', 'C'),\n ('A', 'A', 'A', 'D'),\n ('A', 'A', 'A', 'E'),\n ('A', 'A', 'B', 'B'),\n ('A', 'A', 'B', 'C'),\n ('A', 'A', 'B', 'D'),\n ('A', 'A', 'B', 'E'),\n ('A', 'A', 'C', 'C'),\n ('A', 'A', 'C', 'D'),\n ('A', 'A', 'C', 'E'),\n ('A', 'A', 'D', 'D'),\n ('A', 'A', 'D', 'E'),\n ('A', 'A', 'E', 'E'),\n ('A', 'B', 'B', 'B'),\n ('A', 'B', 'B', 'C'),\n ('A', 'B', 'B', 'D'),\n ('A', 'B', 'B', 'E'),\n ('A', 'B', 'C', 'C'),\n ('A', 'B', 'C', 'D'),\n ('A', 'B', 'C', 'E'),\n ('A', 'B', 'D', 'D'),\n ('A', 'B', 'D', 'E'),\n ('A', 'B', 'E', 'E'),\n ('A', 'C', 'C', 'C'),\n ('A', 'C', 'C', 'D'),\n ('A', 'C', 'C', 'E'),\n ('A', 'C', 'D', 'D'),\n ('A', 'C', 'D', 'E'),\n ('A', 'C', 'E', 'E'),\n ('A', 'D', 'D', 'D'),\n ('A', 'D', 'D', 'E'),\n ('A', 'D', 'E', 'E'),\n ('A', 'E', 'E', 'E'),\n ('B', 'B', 'B', 'B'),\n ('B', 'B', 'B', 'C'),\n ('B', 'B', 'B', 'D'),\n ('B', 'B', 'B', 'E'),\n ('B', 'B', 'C', 'C'),\n ('B', 'B', 'C', 'D'),\n ('B', 'B', 'C', 'E'),\n ('B', 'B', 'D', 'D'),\n ('B', 'B', 'D', 'E'),\n ('B', 'B', 'E', 'E'),\n ('B', 'C', 'C', 'C'),\n ('B', 'C', 'C', 'D'),\n ('B', 'C', 'C', 'E'),\n ('B', 'C', 'D', 'D'),\n ('B', 'C', 'D', 'E'),\n ('B', 'C', 'E', 'E'),\n ('B', 'D', 'D', 'D'),\n ('B', 'D', 'D', 'E'),\n ('B', 'D', 'E', 'E'),\n ('B', 'E', 'E', 'E'),\n ('C', 'C', 'C', 'C'),\n ('C', 'C', 'C', 'D'),\n ('C', 'C', 'C', 'E'),\n ('C', 'C', 'D', 'D'),\n ('C', 'C', 'D', 'E'),\n ('C', 'C', 'E', 'E'),\n ('C', 'D', 'D', 'D'),\n ('C', 'D', 'D', 'E'),\n ('C', 'D', 'E', 'E'),\n ('C', 'E', 'E', 'E'),\n ('D', 'D', 'D', 'D'),\n ('D', 'D', 'D', 'E'),\n ('D', 'D', 'E', 'E'),\n ('D', 'E', 'E', 'E'),\n ('E', 'E', 'E', 'E')]"
          },
          "metadata": {}
        }
      ],
      "execution_count": 38
    },
    {
      "cell_type": "code",
      "source": "rez = list(permutations(range(12),5))\nfor j in len(rez):\n    for i in range(5):\n        if !(abs(rez[j][i]-rez[j][i+1])==1):\n            k++;\nprint(k)\n            \n            ",
      "metadata": {
        "trusted": true
      },
      "outputs": [
        {
          "ename": "<class 'SyntaxError'>",
          "evalue": "invalid syntax (<ipython-input-59-18fddd42ed3c>, line 4)",
          "traceback": [
            "\u001b[0;36m  Cell \u001b[0;32mIn[59], line 4\u001b[0;36m\u001b[0m\n\u001b[0;31m    if !(abs(rez[j][i]-rez[j][i+1])==1):\u001b[0m\n\u001b[0m       ^\u001b[0m\n\u001b[0;31mSyntaxError\u001b[0m\u001b[0;31m:\u001b[0m invalid syntax\n"
          ],
          "output_type": "error"
        }
      ],
      "execution_count": 59
    },
    {
      "cell_type": "code",
      "source": "",
      "metadata": {
        "trusted": true
      },
      "outputs": [],
      "execution_count": null
    }
  ]
}