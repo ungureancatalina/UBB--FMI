{
  "cells": [
    {
      "cell_type": "code",
      "execution_count": 1,
      "metadata": {
        "trusted": true
      },
      "outputs": [],
      "source": [
        "from scipy.stats import norm\n",
        "from numpy import mean, std, linspace\n",
        "from matplotlib.pyplot import show, hist, grid, legend, xticks, plot"
      ]
    },
    {
      "cell_type": "code",
      "execution_count": 2,
      "metadata": {
        "trusted": true
      },
      "outputs": [],
      "source": [
        "def inaltimi(N):\n",
        "    x = norm.rvs(165,10,N)\n",
        "    return x"
      ]
    },
    {
      "cell_type": "code",
      "execution_count": null,
      "metadata": {
        "collapsed": true,
        "jupyter": {
          "outputs_hidden": true
        },
        "scrolled": true,
        "trusted": true
      },
      "outputs": [],
      "source": [
        "inaltimi(1000)"
      ]
    },
    {
      "cell_type": "code",
      "execution_count": null,
      "metadata": {
        "trusted": true
      },
      "outputs": [],
      "source": [
        "from scipy.stats import expon\n",
        "data = inaltimi(1000)\n",
        "hist(data, bins=14, density = True,range=(130,200))\n",
        "x = range(130,200)\n",
        "plot(x,norm.pdf(x,loc=165,scale=10),'r-')\n",
        "xticks(range(130,200,10))\n",
        "grid()\n",
        "show()"
      ]
    },
    {
      "cell_type": "code",
      "execution_count": null,
      "metadata": {
        "trusted": true
      },
      "outputs": [],
      "source": [
        "data = inaltimi(1000)\n",
        "prop_interv = sum([160<x<170 for x in data])/len(data)\n",
        "print(prop_interv)\n",
        "#proportia de valori"
      ]
    },
    {
      "cell_type": "code",
      "execution_count": null,
      "metadata": {
        "trusted": true
      },
      "outputs": [],
      "source": [
        "norm.cdf(170,loc=165,scale=10)-norm.cdf(160,loc=165,scale=10)\n",
        "#deviatia standard"
      ]
    },
    {
      "cell_type": "code",
      "execution_count": null,
      "metadata": {
        "trusted": true
      },
      "outputs": [],
      "source": [
        "print(data.mean())\n",
        "#valoarea medie"
      ]
    },
    {
      "cell_type": "code",
      "execution_count": 41,
      "metadata": {
        "trusted": true
      },
      "outputs": [],
      "source": [
        "from scipy.stats import expon, uniform, bernoulli\n",
        "from numpy import mean, std, multiply"
      ]
    },
    {
      "cell_type": "code",
      "execution_count": 52,
      "metadata": {
        "trusted": true
      },
      "outputs": [],
      "source": [
        "#EX 2\n",
        "expon.rvs()\n",
        "dataa = [imp* expon.rvs(loc=0,scale=5,size=1000) + (1-imp)*uniform.rvs(loc=4,scale=2,size=1000) for imp in bernoulli.rvs(p=0.4,size=1000)]\n",
        "#print(dataa)"
      ]
    },
    {
      "cell_type": "code",
      "execution_count": null,
      "metadata": {
        "trusted": true
      },
      "outputs": [],
      "source": [
        "mean(dataa)\n",
        "#valoarea medie"
      ]
    },
    {
      "cell_type": "code",
      "execution_count": null,
      "metadata": {
        "trusted": true
      },
      "outputs": [],
      "source": [
        "std(dataa)\n",
        "#deviatia standard"
      ]
    },
    {
      "cell_type": "code",
      "execution_count": null,
      "metadata": {
        "trusted": true
      },
      "outputs": [],
      "source": [
        "mean([x<5 for x in dataa])\n",
        "# b) probabilitatea"
      ]
    },
    {
      "cell_type": "code",
      "execution_count": null,
      "metadata": {
        "trusted": true
      },
      "outputs": [],
      "source": [
        "expon.cdf(5,loc=0,scale=5)*0.4+uniform.cdf(5,loc=4,scale=2)*0.6\n",
        "# c) prob teoretica"
      ]
    },
    {
      "cell_type": "code",
      "execution_count": 70,
      "metadata": {
        "trusted": true
      },
      "outputs": [],
      "source": [
        "#EX 3\n",
        "from scipy.stats import uniform\n",
        "from numpy import exp, mean\n",
        "from scipy.integrate import quad"
      ]
    },
    {
      "cell_type": "code",
      "execution_count": null,
      "metadata": {
        "trusted": true
      },
      "outputs": [],
      "source": [
        "x = uniform.rvs(loc=-1, scale=4, size=1000)\n",
        "g = lambda x : exp(-x**2)\n",
        "print(4*mean(g(x))) #formula in lab"
      ]
    }
  ],
  "metadata": {
    "kernelspec": {
      "display_name": "Python (Pyodide)",
      "language": "python",
      "name": "python"
    },
    "language_info": {
      "codemirror_mode": {
        "name": "python",
        "version": 3
      },
      "file_extension": ".py",
      "mimetype": "text/x-python",
      "name": "python",
      "nbconvert_exporter": "python",
      "pygments_lexer": "ipython3",
      "version": "3.8"
    }
  },
  "nbformat": 4,
  "nbformat_minor": 4
}
