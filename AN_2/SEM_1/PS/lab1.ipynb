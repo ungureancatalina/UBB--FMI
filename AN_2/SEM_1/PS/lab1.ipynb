{
  "cells": [
    {
      "cell_type": "code",
      "execution_count": 2,
      "metadata": {
        "trusted": true
      },
      "outputs": [],
      "source": [
        "from random import sample\n",
        "from math import factorial\n",
        "from itertools import permutations\n"
      ]
    },
    {
      "cell_type": "code",
      "execution_count": null,
      "metadata": {
        "trusted": true
      },
      "outputs": [],
      "source": [
        "list(permutations([1,2,3]))\n"
      ]
    },
    {
      "cell_type": "code",
      "execution_count": null,
      "metadata": {
        "trusted": true
      },
      "outputs": [],
      "source": [
        "list(permutations(\"word\"))\n"
      ]
    },
    {
      "cell_type": "code",
      "execution_count": null,
      "metadata": {
        "trusted": true
      },
      "outputs": [],
      "source": [
        "factorial(len(\"word\"))\n"
      ]
    },
    {
      "cell_type": "code",
      "execution_count": null,
      "metadata": {
        "trusted": true
      },
      "outputs": [],
      "source": [
        "sample(\"word\",len(\"word\"))"
      ]
    },
    {
      "cell_type": "code",
      "execution_count": 17,
      "metadata": {
        "trusted": true
      },
      "outputs": [],
      "source": [
        "from random import sample\n",
        "from math import perm, comb\n",
        "from itertools import permutations, combinations\n"
      ]
    },
    {
      "cell_type": "code",
      "execution_count": 26,
      "metadata": {
        "trusted": true
      },
      "outputs": [],
      "source": [
        "def aranjamente(cuv,nr,numar_total=False,aleator=False):\n",
        "    if numar_total==True:\n",
        "        return perm(len(cuv),nr)\n",
        "    elif aleator==True:\n",
        "        return sample(cuv,nr)\n",
        "    else:\n",
        "        return list(permutations(cuv,nr))\n",
        "            "
      ]
    },
    {
      "cell_type": "code",
      "execution_count": null,
      "metadata": {
        "trusted": true
      },
      "outputs": [],
      "source": [
        "aranjamente(\"word\",2)"
      ]
    },
    {
      "cell_type": "code",
      "execution_count": null,
      "metadata": {
        "trusted": true
      },
      "outputs": [],
      "source": [
        "aranjamente(\"word\",2,aleator=True)"
      ]
    },
    {
      "cell_type": "code",
      "execution_count": null,
      "metadata": {
        "trusted": true
      },
      "outputs": [],
      "source": [
        "aranjamente(\"word\",2,numar_total=True)\n"
      ]
    },
    {
      "cell_type": "code",
      "execution_count": 54,
      "metadata": {
        "trusted": true
      },
      "outputs": [],
      "source": [
        "def combinari(cuv,nr,numar_total=False,aleator=False):\n",
        "    if numar_total==True:\n",
        "        return comb(len(cuv),nr)\n",
        "    elif aleator==True:\n",
        "        rez = []\n",
        "        for i in sorted(sample(list(range(len(cuv))),nr)):\n",
        "            rez.append(cuv[i])\n",
        "        print (rez)\n",
        "    else:\n",
        "        return list(combinations(cuv,nr))\n",
        "            "
      ]
    },
    {
      "cell_type": "code",
      "execution_count": null,
      "metadata": {
        "trusted": true
      },
      "outputs": [],
      "source": [
        "\n",
        "combinari(\"word\",2)\n"
      ]
    },
    {
      "cell_type": "code",
      "execution_count": null,
      "metadata": {
        "trusted": true
      },
      "outputs": [],
      "source": [
        "combinari('word',2,numar_total=True)"
      ]
    },
    {
      "cell_type": "code",
      "execution_count": null,
      "metadata": {
        "trusted": true
      },
      "outputs": [],
      "source": [
        "combinari('word',2,aleator=True)"
      ]
    },
    {
      "cell_type": "code",
      "execution_count": 36,
      "metadata": {
        "trusted": true
      },
      "outputs": [],
      "source": [
        "from itertools import combinations_with_replacement"
      ]
    },
    {
      "cell_type": "code",
      "execution_count": null,
      "metadata": {
        "trusted": true
      },
      "outputs": [],
      "source": [
        "list(combinations_with_replacement(\"ABCDE\",4))"
      ]
    },
    {
      "cell_type": "code",
      "execution_count": null,
      "metadata": {
        "trusted": true
      },
      "outputs": [],
      "source": [
        "rez = list(permutations(range(12),5))\n",
        "for j in len(rez):\n",
        "    for i in range(5):\n",
        "        if !(abs(rez[j][i]-rez[j][i+1])==1):\n",
        "            k++\n",
        "print(k)\n",
        "            \n",
        "            "
      ]
    }
  ],
  "metadata": {
    "kernelspec": {
      "display_name": "Python (Pyodide)",
      "language": "python",
      "name": "python"
    },
    "language_info": {
      "codemirror_mode": {
        "name": "python",
        "version": 3
      },
      "file_extension": ".py",
      "mimetype": "text/x-python",
      "name": "python",
      "nbconvert_exporter": "python",
      "pygments_lexer": "ipython3",
      "version": "3.8"
    }
  },
  "nbformat": 4,
  "nbformat_minor": 4
}
