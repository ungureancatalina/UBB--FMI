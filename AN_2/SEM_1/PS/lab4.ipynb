{
  "cells": [
    {
      "cell_type": "code",
      "execution_count": 2,
      "metadata": {
        "trusted": true
      },
      "outputs": [],
      "source": [
        "from scipy.stats import bernoulli, binom\n",
        "from matplotlib.pyplot import bar, show, hist, grid, legend, xticks"
      ]
    },
    {
      "cell_type": "code",
      "execution_count": null,
      "metadata": {
        "trusted": true
      },
      "outputs": [],
      "source": [
        "bernoulli.rvs(0.5,size=100)"
      ]
    },
    {
      "cell_type": "code",
      "execution_count": 35,
      "metadata": {
        "trusted": true
      },
      "outputs": [],
      "source": [
        "def deplasare(n,p):\n",
        "#n = nr de pasi; p = prob. spre dreapta la un pas\n",
        "    pozitii = [0]\n",
        "    for _ in range (n):\n",
        "        pas = 2* bernoulli.rvs(p) - 1\n",
        "        pozitii.append(pozitii[-1]+pas)\n",
        "    return pozitii"
      ]
    },
    {
      "cell_type": "code",
      "execution_count": null,
      "metadata": {
        "trusted": true
      },
      "outputs": [],
      "source": [
        "deplasare(10,0.1)"
      ]
    },
    {
      "cell_type": "code",
      "execution_count": 44,
      "metadata": {
        "trusted": true
      },
      "outputs": [],
      "source": [
        "from random import randrange\n",
        "from matplotlib.pyplot import bar, hist, grid, show, legend"
      ]
    },
    {
      "cell_type": "code",
      "execution_count": null,
      "metadata": {
        "trusted": true
      },
      "outputs": [],
      "source": [
        "n= 10\n",
        "p= 0.5\n",
        "\n",
        "data = [deplasare(n,p)[-1] for _ in range(1000)]\n",
        "\n",
        "bin_edges = [i+0.5 for i in range(-n-1,n+1)]\n",
        "hist(data, bin_edges, density = True, rwidth = 0.9, color = 'green', edgecolor = 'black',\n",
        "alpha = 0.5, label = 'frecvente relative')\n",
        "distribution = dict([(k,binom.pmf((n+k)/2,n=n,p=p)) for k in range(-n,n+1)])\n",
        "bar(distribution.keys(), distribution.values(), width = 0.85, color = 'red', edgecolor = 'black',\n",
        "alpha= 0.6, label = 'probabilitati')\n",
        "legend(loc = 'upper left')\n",
        "xticks(range(-n-1,n+1))\n",
        "grid()\n",
        "show()"
      ]
    },
    {
      "cell_type": "code",
      "execution_count": null,
      "metadata": {
        "trusted": true
      },
      "outputs": [],
      "source": [
        "N = 5 #numarul de noduri: 0, 1, 2, 3, 4\n",
        "n= 10\n",
        "p= 0.5\n",
        "\n",
        "data = [deplasare(n,p)[-1]%N for _ in range(1000)]\n",
        "\n",
        "bin_edges = [i+0.5 for i in range(-1,N)]\n",
        "hist(data, bin_edges, density = True, rwidth = 0.9, color = 'green', edgecolor = 'black',\n",
        "alpha = 0.5, label = 'frecvente relative')\n",
        "distribution = dict([(k,0) for k in range(N)])\n",
        "for k in range (-n,n+1):\n",
        "    distribution[k%N]+=binom.pmf((n+k)/2,n=n,p=p)\n",
        "bar(distribution.keys(), distribution.values(), width = 0.85, color = 'red', edgecolor = 'black',\n",
        "alpha= 0.6, label = 'probabilitati')\n",
        "legend(loc = 'upper left')\n",
        "xticks(range(0,N))\n",
        "grid()\n",
        "show()"
      ]
    },
    {
      "cell_type": "code",
      "execution_count": 62,
      "metadata": {
        "trusted": true
      },
      "outputs": [],
      "source": [
        "from scipy.stats import hypergeom, geom"
      ]
    },
    {
      "cell_type": "code",
      "execution_count": 67,
      "metadata": {
        "trusted": true
      },
      "outputs": [],
      "source": [
        "p= sum([hypergeom.pmf(k,49,6,6) for k in [3,4,5,6]])"
      ]
    },
    {
      "cell_type": "code",
      "execution_count": null,
      "metadata": {
        "trusted": true
      },
      "outputs": [],
      "source": [
        "p"
      ]
    },
    {
      "cell_type": "code",
      "execution_count": null,
      "metadata": {
        "trusted": true
      },
      "outputs": [],
      "source": [
        "geom.rvs(p,size=100)\n",
        "1-geom.cdf(9,p) #P(Z<=10)=1-P(Z<=9)"
      ]
    }
  ],
  "metadata": {
    "kernelspec": {
      "display_name": "Python (Pyodide)",
      "language": "python",
      "name": "python"
    },
    "language_info": {
      "codemirror_mode": {
        "name": "python",
        "version": 3
      },
      "file_extension": ".py",
      "mimetype": "text/x-python",
      "name": "python",
      "nbconvert_exporter": "python",
      "pygments_lexer": "ipython3",
      "version": "3.8"
    }
  },
  "nbformat": 4,
  "nbformat_minor": 4
}
