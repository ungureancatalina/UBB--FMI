{
  "cells": [
    {
      "cell_type": "code",
      "execution_count": 1,
      "metadata": {
        "trusted": true
      },
      "outputs": [],
      "source": [
        "from scipy.stats import uniform\n",
        "\n",
        "def my_rand_vals(valori,probabilitati,N):\n",
        "  x=[]\n",
        "  u = uniform.rvs(size=N)\n",
        "  for i in range(N):\n",
        "    poz = 0\n",
        "    sum_prob = probabilitati[0]\n",
        "    while u[i]>sum_prob:\n",
        "      poz += 1\n",
        "      sum_prob += probabilitati[poz]\n",
        "    x.append(valori[poz])\n",
        "  return x"
      ]
    },
    {
      "cell_type": "code",
      "execution_count": null,
      "metadata": {
        "trusted": true
      },
      "outputs": [],
      "source": [
        "my_rand_vals(range(4),(0.46,0.4,0.1,0.06),10)"
      ]
    },
    {
      "cell_type": "code",
      "execution_count": null,
      "metadata": {
        "trusted": true
      },
      "outputs": [],
      "source": [
        "from matplotlib.pyplot import bar, show, hist, grid, legend, xticks , yticks\n",
        "\n",
        "valori, probabilitati = range(4), (0.46,0.4,0.1,0.04)\n",
        "\n",
        "data = my_rand_vals(valori, probabilitati,1000)\n",
        "bin_edges = [k+0.5 for k in range(-1,4)]\n",
        "hist(data, bin_edges, density=True,  rwidth = 0.9, color = 'green', edgecolor = 'black',\n",
        " alpha = 0.5, label = 'frecvente relative')\n",
        "\n",
        "distribution = dict([(k, probabilitati[k]) for k in range(4)])\n",
        "bar(distribution.keys(), distribution.values(),  width = 0.85, color = 'red', edgecolor = 'black',\n",
        "alpha= 0.6, label = 'probabilitati')\n",
        "legend(loc = 'lower left')\n",
        "xticks(ticks = range(4), labels=('0','A','B','AB'))\n",
        "grid()\n",
        "show()"
      ]
    },
    {
      "cell_type": "code",
      "execution_count": 8,
      "metadata": {
        "trusted": true
      },
      "outputs": [],
      "source": [
        "from math import log\n",
        "\n",
        "def my_rand_values(alpha,n):\n",
        "    u = uniform.rvs(size=n)\n",
        "    x = [(-1/alpha)*log(1-u[i]) for i in range (n)]\n",
        "    return x"
      ]
    },
    {
      "cell_type": "code",
      "execution_count": null,
      "metadata": {
        "trusted": true
      },
      "outputs": [],
      "source": [
        "my_rand_values(1/12,10)"
      ]
    },
    {
      "cell_type": "code",
      "execution_count": null,
      "metadata": {
        "trusted": true
      },
      "outputs": [],
      "source": [
        "from matplotlib.pyplot import show, hist, grid, legend, xticks, plot\n",
        "from scipy.stats import expon\n",
        "alpha = 1/12\n",
        "data = my_rand_values(alpha,1000)\n",
        "hist(data, bins=12, density = True,range=(0,61))\n",
        "x = range(62)\n",
        "plot(x,expon.pdf(x,loc=0,scale=1/alpha),'r-')\n",
        "xticks(range(0,61,5))\n",
        "grid()\n",
        "show()"
      ]
    },
    {
      "cell_type": "code",
      "execution_count": null,
      "metadata": {
        "trusted": true
      },
      "outputs": [],
      "source": [
        "sum([x>=5 for x in data])/len(data)"
      ]
    },
    {
      "cell_type": "code",
      "execution_count": null,
      "metadata": {
        "trusted": true
      },
      "outputs": [],
      "source": [
        "1-expon.cdf(5,loc=0,scale=1/alpha)"
      ]
    }
  ],
  "metadata": {
    "kernelspec": {
      "display_name": "Python (Pyodide)",
      "language": "python",
      "name": "python"
    },
    "language_info": {
      "codemirror_mode": {
        "name": "python",
        "version": 3
      },
      "file_extension": ".py",
      "mimetype": "text/x-python",
      "name": "python",
      "nbconvert_exporter": "python",
      "pygments_lexer": "ipython3",
      "version": "3.8"
    }
  },
  "nbformat": 4,
  "nbformat_minor": 4
}
