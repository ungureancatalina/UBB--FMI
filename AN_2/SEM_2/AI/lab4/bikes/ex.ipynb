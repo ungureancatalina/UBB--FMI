{
 "cells": [
  {
   "cell_type": "code",
   "execution_count": 5,
   "id": "fc818b2f-a154-4233-b67b-8872afceeeda",
   "metadata": {},
   "outputs": [],
   "source": [
    "import os\n",
    "import cv2\n",
    "import time\n",
    "import json\n",
    "from azure.cognitiveservices.vision.computervision import ComputerVisionClient\n",
    "from msrest.authentication import CognitiveServicesCredentials"
   ]
  },
  {
   "cell_type": "code",
   "execution_count": 6,
   "id": "a1a24492-5b84-47b7-bc25-c6b2c3b5df4d",
   "metadata": {},
   "outputs": [
    {
     "data": {
      "text/plain": [
       "'\\nEND - Authenticate\\n'"
      ]
     },
     "execution_count": 6,
     "metadata": {},
     "output_type": "execute_result"
    }
   ],
   "source": [
    "'''\n",
    "Authenticate\n",
    "Authenticates your credentials and creates a client.\n",
    "'''\n",
    "var = json.load(open(\"credidentials.json\"))\n",
    "subscription_key= var[\"API_KEY\"]\n",
    "endpoint = var[\"END_POINT\"]\n",
    "client = ComputerVisionClient(endpoint, CognitiveServicesCredentials(subscription_key))\n",
    "'''\n",
    "END - Authenticate\n",
    "'''"
   ]
  },
  {
   "cell_type": "code",
   "execution_count": 7,
   "id": "92e28e36-9f2e-4d9e-bac0-478ad142d5c1",
   "metadata": {},
   "outputs": [],
   "source": [
    "anotari_manuale = {\n",
    "    \"bike01.jpg\": [(5, 32, 411, 404)],\n",
    "    \"bike02.jpg\": [(15, 88, 381, 320)],\n",
    "    \"bike03.jpg\": [(159, 148, 345, 410)],\n",
    "    \"bike04.jpg\": [(2, 2, 417, 418)],\n",
    "    \"bike05.jpg\": [(69, 54, 357, 350)],\n",
    "    \"bike06.jpg\": [(69, 150, 197, 398)],\n",
    "    \"bike07.jpg\": [(60, 184, 298, 420)],\n",
    "    \"bike08.jpg\": [(55, 8, 389, 352)],\n",
    "    \"bike09.jpg\": [(5, 12, 382, 386)],\n",
    "    \"bike10.jpg\": [(142, 126, 375, 410)]\n",
    "}\n",
    "cale_folder = \"bikes\"\n",
    "lista_imagini = [\"bike{:02d}.jpg\".format(i) for i in range(1, 11)] + [\"traffic{:02d}.jpg\".format(i) for i in range(1, 11)]"
   ]
  },
  {
   "cell_type": "code",
   "execution_count": 8,
   "id": "529617e8-02e5-40ef-946f-03c664dd0e30",
   "metadata": {},
   "outputs": [],
   "source": [
    "def clasificare_imagine(cale_imagine):\n",
    "    \"\"\"\n",
    "    Utilizează serviciul Azure pentru a analiza imaginea și a determina dacă aceasta conține o bicicletă.\n",
    "    Returnează True dacă apare termenul 'bicycle' în descriere, altfel False.\n",
    "    \"\"\"\n",
    "    with open(cale_imagine, \"rb\") as imagine:\n",
    "        analiza = client.describe_image_in_stream(imagine)\n",
    "    prezice_bicicleta = False\n",
    "    if analiza.captions:\n",
    "        #for cap in analiza.captions:\n",
    "        #    print(f\"    - '{cap.text}' (încredere: {cap.confidence:.2f})\")\n",
    "        for descriere in analiza.captions:\n",
    "            if \"bicycle\" in descriere.text.lower():\n",
    "                prezice_bicicleta = True\n",
    "                break\n",
    "    return prezice_bicicleta, analiza"
   ]
  },
  {
   "cell_type": "code",
   "execution_count": 9,
   "id": "bf5fbc4e-42c3-4501-8b8b-2975f39eda8a",
   "metadata": {},
   "outputs": [],
   "source": [
    "def testeaza_clasificarea(lista_imagini, cale_folder):\n",
    "    \"\"\"\n",
    "    Parcurge imaginile și determină dacă predicția corespunde etichetei reale (nume fișier).\n",
    "    Returnează un dicționar cu rezultate și acuratețea totală.\n",
    "    \"\"\"\n",
    "    rezultate = {}\n",
    "    for imagine in lista_imagini:\n",
    "        eticheta_real = imagine.startswith(\"bike\")\n",
    "        cale_completa = os.path.join(cale_folder, imagine)\n",
    "        predictie, analiza = clasificare_imagine(cale_completa)\n",
    "        rezultate[imagine] = {\"predictie\": predictie, \"eticheta\": eticheta_real, \"detalii\": analiza}\n",
    "        print(f\"{imagine}: predictie = {predictie}, eticheta reala = {eticheta_real}\")\n",
    "\n",
    "    corecte = sum(1 for img in lista_imagini if rezultate[img][\"predictie\"] == rezultate[img][\"eticheta\"])\n",
    "    acuratete = corecte / len(lista_imagini)\n",
    "    print(f\"\\nAcuratete clasificare: {acuratete:.2f}\")\n",
    "    return rezultate, acuratete\n"
   ]
  },
  {
   "cell_type": "code",
   "execution_count": 10,
   "id": "b794414a-21da-4cd6-8ef5-4630ab82c86e",
   "metadata": {},
   "outputs": [
    {
     "name": "stdout",
     "output_type": "stream",
     "text": [
      "\n",
      " 1: Clasificare imagini\n",
      "bike01.jpg: predictie = True, eticheta reala = True\n",
      "bike02.jpg: predictie = True, eticheta reala = True\n",
      "bike03.jpg: predictie = True, eticheta reala = True\n",
      "bike04.jpg: predictie = False, eticheta reala = True\n",
      "bike05.jpg: predictie = True, eticheta reala = True\n",
      "bike06.jpg: predictie = True, eticheta reala = True\n",
      "bike07.jpg: predictie = True, eticheta reala = True\n",
      "bike08.jpg: predictie = True, eticheta reala = True\n",
      "bike09.jpg: predictie = True, eticheta reala = True\n",
      "bike10.jpg: predictie = True, eticheta reala = True\n",
      "traffic01.jpg: predictie = False, eticheta reala = False\n",
      "traffic02.jpg: predictie = False, eticheta reala = False\n",
      "traffic03.jpg: predictie = False, eticheta reala = False\n",
      "traffic04.jpg: predictie = False, eticheta reala = False\n",
      "traffic05.jpg: predictie = False, eticheta reala = False\n",
      "traffic06.jpg: predictie = False, eticheta reala = False\n",
      "traffic07.jpg: predictie = False, eticheta reala = False\n",
      "traffic08.jpg: predictie = True, eticheta reala = False\n",
      "traffic09.jpg: predictie = False, eticheta reala = False\n",
      "traffic10.jpg: predictie = False, eticheta reala = False\n",
      "\n",
      "Acuratete clasificare: 0.90\n"
     ]
    }
   ],
   "source": [
    "print(\"\\n 1: Clasificare imagini\")\n",
    "rezultate_clasificare, acuratete_finala = testeaza_clasificarea(lista_imagini, cale_folder)"
   ]
  },
  {
   "cell_type": "code",
   "execution_count": 58,
   "id": "cdbbf5b9-1e45-4361-a814-dcd82d64b811",
   "metadata": {},
   "outputs": [],
   "source": [
    "def detectare_biciclete(cale_imagine, prag_incredere=0.3):\n",
    "    \"\"\"\n",
    "    Folosește AI Azure pentru a detecta automat obiectele relevante (biciclete).\n",
    "    Returnează o listă de chenare (x, y, w, h).\n",
    "    \"\"\"\n",
    "    with open(cale_imagine, \"rb\") as imagine:\n",
    "        detectii = client.detect_objects_in_stream(imagine)\n",
    "    chenar_gasit = []\n",
    "    if detectii.objects:\n",
    "        for obiect in detectii.objects:\n",
    "            #print(f\"[OBIECT] '{obiect.object_property}' detectat cu scor {obiect.confidence:.2f}\")\n",
    "            eticheta = obiect.object_property.lower()\n",
    "            if (\"bicycle\" in eticheta or \"bike\" in eticheta) and obiect.confidence >= prag_incredere:\n",
    "                coord = obiect.rectangle\n",
    "                chenar_gasit.append((coord.x, coord.y, coord.w, coord.h))\n",
    "    return chenar_gasit"
   ]
  },
  {
   "cell_type": "code",
   "execution_count": 59,
   "id": "30df07da-9c81-4f68-9649-c58a27d782d6",
   "metadata": {},
   "outputs": [],
   "source": [
    "def deseneaza_chenare(cale_imagine, chenare, cale_salveaza, culoare=(0, 255, 0)):\n",
    "    \"\"\"\n",
    "    Desenează chenare automate pe imagine și salvează rezultatul.\n",
    "    \"\"\"\n",
    "    img = cv2.imread(cale_imagine)\n",
    "    for (x, y, w, h) in chenare:\n",
    "        cv2.rectangle(img, (x, y), (x + w, y + h), culoare, 2)\n",
    "    cv2.imwrite(cale_salveaza, img)"
   ]
  },
  {
   "cell_type": "code",
   "execution_count": 60,
   "id": "f741c860-841a-4f42-aa57-3710168eddb6",
   "metadata": {},
   "outputs": [
    {
     "name": "stdout",
     "output_type": "stream",
     "text": [
      "\n",
      " 2a: Detectare automată biciclete\n",
      "[OBIECT] 'bicycle' detectat cu scor 0.94\n",
      "bike01.jpg: 1 detectii -> [(3, 16, 409, 394)]\n",
      "[OBIECT] 'Wheel' detectat cu scor 0.52\n",
      "[OBIECT] 'bicycle' detectat cu scor 0.91\n",
      "bike02.jpg: 1 detectii -> [(9, 90, 357, 231)]\n",
      "[OBIECT] 'car' detectat cu scor 0.58\n",
      "[OBIECT] 'person' detectat cu scor 0.79\n",
      "[OBIECT] 'person' detectat cu scor 0.88\n",
      "[OBIECT] 'bicycle' detectat cu scor 0.80\n",
      "bike03.jpg: 1 detectii -> [(155, 153, 183, 252)]\n",
      "[OBIECT] 'bicycle' detectat cu scor 0.82\n",
      "bike04.jpg: 1 detectii -> [(0, 2, 414, 410)]\n",
      "[OBIECT] 'bicycle' detectat cu scor 0.75\n",
      "bike05.jpg: 1 detectii -> [(66, 36, 283, 299)]\n",
      "[OBIECT] 'car' detectat cu scor 0.63\n",
      "[OBIECT] 'person' detectat cu scor 0.73\n",
      "[OBIECT] 'person' detectat cu scor 0.80\n",
      "[OBIECT] 'cycle' detectat cu scor 0.59\n",
      "bike06.jpg: 0 detectii -> []\n",
      "[OBIECT] 'person' detectat cu scor 0.80\n",
      "[OBIECT] 'bicycle' detectat cu scor 0.86\n",
      "bike07.jpg: 1 detectii -> [(51, 206, 257, 210)]\n",
      "[OBIECT] 'person' detectat cu scor 0.92\n",
      "bike08.jpg: 0 detectii -> []\n",
      "[OBIECT] 'bicycle' detectat cu scor 0.78\n",
      "bike09.jpg: 1 detectii -> [(4, 14, 367, 388)]\n",
      "[OBIECT] 'Gondola' detectat cu scor 0.52\n",
      "[OBIECT] 'bicycle' detectat cu scor 0.82\n",
      "bike10.jpg: 1 detectii -> [(138, 135, 253, 269)]\n"
     ]
    }
   ],
   "source": [
    "print(\"\\n 2a: Detectare automată biciclete\")\n",
    "rezultate_detectie = {}\n",
    "for imagine in lista_imagini:\n",
    "    if imagine.startswith(\"bike\"):\n",
    "        cale = os.path.join(cale_folder, imagine)\n",
    "        chenare_gasite = detectare_biciclete(cale, prag_incredere=0.3)\n",
    "        rezultate_detectie[imagine] = chenare_gasite\n",
    "        print(f\"{imagine}: {len(chenare_gasite)} detectii -> {chenare_gasite}\")\n",
    "        if chenare_gasite:\n",
    "            cale_salvare = os.path.join(cale_folder, \"auto_\" + imagine)\n",
    "            deseneaza_chenare(cale, chenare_gasite, cale_salvare)\n",
    "        time.sleep(3)"
   ]
  },
  {
   "cell_type": "code",
   "execution_count": 40,
   "id": "da53a46f-f613-4525-b483-fde7497841c3",
   "metadata": {},
   "outputs": [],
   "source": [
    "def deseneaza_chenare_manual(cale_imagine, chenare_manuale, cale_salveaza):\n",
    "    \"\"\"\n",
    "    Desenează chenare realizate manual pe imagine, cu culoare roșie.\n",
    "    \"\"\"\n",
    "    img = cv2.imread(cale_imagine)\n",
    "    for (x1, y1, x2, y2) in chenare_manuale:\n",
    "        cv2.rectangle(img, (x1, y1), (x2, y2), (0, 0, 255), 2)\n",
    "    cv2.imwrite(cale_salveaza, img)"
   ]
  },
  {
   "cell_type": "code",
   "execution_count": 48,
   "id": "73b03b3f-6e70-434b-ab88-502d904c897e",
   "metadata": {},
   "outputs": [
    {
     "name": "stdout",
     "output_type": "stream",
     "text": [
      "\n",
      " 2b: Etichetare manuală\n",
      "Salvat: bike01.jpg\n",
      "Salvat: bike02.jpg\n",
      "Salvat: bike03.jpg\n",
      "Salvat: bike04.jpg\n",
      "Salvat: bike05.jpg\n",
      "Salvat: bike06.jpg\n",
      "Salvat: bike07.jpg\n",
      "Salvat: bike08.jpg\n",
      "Salvat: bike09.jpg\n",
      "Salvat: bike10.jpg\n"
     ]
    }
   ],
   "source": [
    "print(\"\\n 2b: Etichetare manuală\")\n",
    "for imagine, etichete in anotari_manuale.items():\n",
    "    cale = os.path.join(cale_folder, imagine)\n",
    "    cale_salvare = os.path.join(cale_folder, \"manual_\" + imagine)\n",
    "    deseneaza_chenare_manual(cale, etichete, cale_salvare)\n",
    "    print(f\"Salvat: {imagine}\")"
   ]
  },
  {
   "cell_type": "code",
   "execution_count": 61,
   "id": "de463d83-1e43-4abb-ab5e-98e7984dd6d1",
   "metadata": {},
   "outputs": [],
   "source": [
    "def transforma_format_chenar(box):\n",
    "    \"\"\"\n",
    "    Converteste formatul (x, y, w, h) în (x1, y1, x2, y2)\n",
    "    \"\"\"\n",
    "    x, y, w, h = box\n",
    "    return (x, y, x + w, y + h)"
   ]
  },
  {
   "cell_type": "code",
   "execution_count": 62,
   "id": "7d372bf1-7845-4005-b548-a3b7bdddedcb",
   "metadata": {},
   "outputs": [],
   "source": [
    "def calculeaza_iou(boxA, boxB):\n",
    "    \"\"\"\n",
    "    Calculează Intersection over Union pentru două chenare (format x1, y1, x2, y2).\n",
    "    \"\"\"\n",
    "    xA = max(boxA[0], boxB[0])\n",
    "    yA = max(boxA[1], boxB[1])\n",
    "    xB = min(boxA[2], boxB[2])\n",
    "    yB = min(boxA[3], boxB[3])\n",
    "\n",
    "    lat_inter = max(0, xB - xA)\n",
    "    inaltime_inter = max(0, yB - yA)\n",
    "    aria_inter = lat_inter * inaltime_inter\n",
    "\n",
    "    aria_A = (boxA[2] - boxA[0]) * (boxA[3] - boxA[1])\n",
    "    aria_B = (boxB[2] - boxB[0]) * (boxB[3] - boxB[1])\n",
    "\n",
    "    iou = aria_inter / float(aria_A + aria_B - aria_inter) if (aria_A + aria_B - aria_inter) > 0 else 0\n",
    "    return iou\n"
   ]
  },
  {
   "cell_type": "code",
   "execution_count": 63,
   "id": "5b9c9369-1b55-4931-a892-33ca3665a752",
   "metadata": {},
   "outputs": [],
   "source": [
    "def evaluare_detectie(anotari_manuale, detectii_ai, prag_iou=0.5):\n",
    "    \"\"\"\n",
    "    Evaluează detectările făcute de AI comparativ cu etichetele manuale.\n",
    "    Returnează IoU mediu, precizie și recall.\n",
    "    \"\"\"\n",
    "    scoruri_iou = []\n",
    "    total_tp = 0\n",
    "    total_fp = 0\n",
    "    total_fn = 0\n",
    "\n",
    "    for imagine, etichete in anotari_manuale.items():\n",
    "        detectate = detectii_ai.get(imagine, [])\n",
    "        etichete_corelate = [False] * len(etichete)\n",
    "        tp_local = 0\n",
    "\n",
    "        for chenar_detectat in detectate:\n",
    "            chenar_convertit = transforma_format_chenar(chenar_detectat)\n",
    "            cel_mai_bun_iou = 0\n",
    "            idx_bun = -1\n",
    "            for i, et_manual in enumerate(etichete):\n",
    "                iou = calculeaza_iou(chenar_convertit, et_manual)\n",
    "                if iou > cel_mai_bun_iou:\n",
    "                    cel_mai_bun_iou = iou\n",
    "                    idx_bun = i\n",
    "            if cel_mai_bun_iou >= prag_iou and idx_bun != -1 and not etichete_corelate[idx_bun]:\n",
    "                tp_local += 1\n",
    "                etichete_corelate[idx_bun] = True\n",
    "                scoruri_iou.append(cel_mai_bun_iou)\n",
    "            else:\n",
    "                total_fp += 1\n",
    "\n",
    "        fn_local = len(etichete) - tp_local\n",
    "        #print(f\"[IMAGINE] {imagine}: TP = {tp_local}, FP = {len(detectate) - tp_local}, FN = {fn_local}\")\n",
    "        total_fn += fn_local\n",
    "        total_tp += tp_local\n",
    "\n",
    "    iou_mediu = sum(scoruri_iou) / len(scoruri_iou) if scoruri_iou else 0\n",
    "    precizie = total_tp / (total_tp + total_fp) if (total_tp + total_fp) > 0 else 0\n",
    "    recall = total_tp / (total_tp + total_fn) if (total_tp + total_fn) > 0 else 0\n",
    "\n",
    "    print(f\"\\nEvaluare finala:\")\n",
    "    print(f\"IoU mediu: {iou_mediu:.2f}\")\n",
    "    print(f\"Precizie: {precizie:.2f}\")\n",
    "    print(f\"Recall: {recall:.2f}\")\n",
    "\n",
    "    return {\"iou\": iou_mediu, \"precizie\": precizie, \"recall\": recall}"
   ]
  },
  {
   "cell_type": "code",
   "execution_count": 64,
   "id": "9a05a889-a4e8-4a4f-8133-c643f8dff26e",
   "metadata": {},
   "outputs": [
    {
     "name": "stdout",
     "output_type": "stream",
     "text": [
      "\n",
      " 2c: Evaluare performanță detectie\n",
      "[IMAGINE] bike01.jpg: TP = 1, FP = 0, FN = 0\n",
      "[IMAGINE] bike02.jpg: TP = 1, FP = 0, FN = 0\n",
      "[IMAGINE] bike03.jpg: TP = 1, FP = 0, FN = 0\n",
      "[IMAGINE] bike04.jpg: TP = 1, FP = 0, FN = 0\n",
      "[IMAGINE] bike05.jpg: TP = 1, FP = 0, FN = 0\n",
      "[IMAGINE] bike06.jpg: TP = 0, FP = 0, FN = 1\n",
      "[IMAGINE] bike07.jpg: TP = 1, FP = 0, FN = 0\n",
      "[IMAGINE] bike08.jpg: TP = 0, FP = 0, FN = 1\n",
      "[IMAGINE] bike09.jpg: TP = 1, FP = 0, FN = 0\n",
      "[IMAGINE] bike10.jpg: TP = 1, FP = 0, FN = 0\n",
      "\n",
      "Evaluare finala:\n",
      "IoU mediu: 0.91\n",
      "Precizie: 1.00\n",
      "Recall: 0.80\n"
     ]
    }
   ],
   "source": [
    "print(\"\\n 2c: Evaluare performanță detectie\")\n",
    "metrice = evaluare_detectie(anotari_manuale, rezultate_detectie, prag_iou=0.5)"
   ]
  },
  {
   "cell_type": "code",
   "execution_count": null,
   "id": "d3f24dc9-3d33-4347-a1e5-be055d17a4bb",
   "metadata": {},
   "outputs": [],
   "source": []
  }
 ],
 "metadata": {
  "kernelspec": {
   "display_name": "Python 3 (ipykernel)",
   "language": "python",
   "name": "python3"
  },
  "language_info": {
   "codemirror_mode": {
    "name": "ipython",
    "version": 3
   },
   "file_extension": ".py",
   "mimetype": "text/x-python",
   "name": "python",
   "nbconvert_exporter": "python",
   "pygments_lexer": "ipython3",
   "version": "3.11.9"
  }
 },
 "nbformat": 4,
 "nbformat_minor": 5
}
