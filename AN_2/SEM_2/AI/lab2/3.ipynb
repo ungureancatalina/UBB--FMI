{
 "cells": [
  {
   "cell_type": "code",
   "execution_count": 2,
   "id": "0106f05f-8ab4-432b-898b-47082dce2ea0",
   "metadata": {},
   "outputs": [],
   "source": [
    "import re\n",
    "import webbrowser\n",
    "import unidecode\n",
    "import nltk\n",
    "from collections import Counter"
   ]
  },
  {
   "cell_type": "code",
   "execution_count": null,
   "id": "bc4ff5e4-b839-4eff-a0f3-bd9aaa0d92ef",
   "metadata": {
    "scrolled": true
   },
   "outputs": [],
   "source": [
    "#numarul de propozitii din text;\n",
    "def numar_secvente_func():\n",
    "    with open('texts.txt', 'r',encoding='utf-8') as r:\n",
    "        text = r.read()\n",
    "    sentences=re.split(r'[.!?]',text)\n",
    "    sentences = [sentence.replace(\"\\n\", \"\").strip() for sentence in sentences if sentence.strip()]\n",
    "    print(\"Numarul de propozitii: \",len(sentences))\n",
    "    return sentences\n",
    "numar_secvente_func()"
   ]
  },
  {
   "cell_type": "code",
   "execution_count": null,
   "id": "a1ed15b7-d39b-4551-a589-4df67993ad12",
   "metadata": {
    "scrolled": true
   },
   "outputs": [],
   "source": [
    "#numarul de cuvinte din text\n",
    "def numar_cuvinte_func():\n",
    "    with open('texts.txt', 'r',encoding='utf-8') as r:\n",
    "        text = r.read()\n",
    "    words=re.findall(r'\\w+',text)\n",
    "    print(\"Numarul de cuvinte: \",len(words))\n",
    "    return words\n",
    "numar_cuvinte_func()   "
   ]
  },
  {
   "cell_type": "code",
   "execution_count": null,
   "id": "5167b113-762d-4f26-a2e9-cef832f37d09",
   "metadata": {},
   "outputs": [],
   "source": [
    "#numarul de cuvinte diferite din text\n",
    "def numar_cuvinte_dif_func():\n",
    "    words=numar_cuvinte_func() \n",
    "    print(\"Numarul de cuvinte diferite: \",len(set(words)))\n",
    "numar_cuvinte_dif_func()   "
   ]
  },
  {
   "cell_type": "code",
   "execution_count": null,
   "id": "a321cb44-c195-49c9-a681-37e2ce514db5",
   "metadata": {},
   "outputs": [],
   "source": [
    "#cel mai scurt si cel mai lung cuvant (cuvinte)\n",
    "def cuvinte_func():\n",
    "    words=numar_cuvinte_func() \n",
    "    min_word = min(words, key=len)\n",
    "    max_word = max(words, key=len)\n",
    "    print(\"Cuvantul ce mai scurt e: \", min_word, \"Cuvantul ce mai lung e: \", max_word)\n",
    "    #query_url = f\"https://www.google.com/search?q=sinonime+pentru+cuvantul+{max_word}\"\n",
    "    #webbrowser.open(query_url)\n",
    "    return min_word, max_word\n",
    "cuvinte_func()   "
   ]
  },
  {
   "cell_type": "code",
   "execution_count": null,
   "id": "f80e79ab-64bf-4ffc-b07b-d6a68c5798dd",
   "metadata": {},
   "outputs": [],
   "source": [
    "#textul fara diacritice\n",
    "def text_fara_diacritice_func():\n",
    "    with open('texts.txt', 'r',encoding='utf-8') as r:\n",
    "        text = r.read()\n",
    "    text=text.replace(\"\\n\", \"\").strip()\n",
    "    return unidecode.unidecode(text)\n",
    "text_fara_diacritice_func()"
   ]
  },
  {
   "cell_type": "code",
   "execution_count": null,
   "id": "07628c7d-bbf8-4261-8586-35c485e3a58d",
   "metadata": {
    "scrolled": true
   },
   "outputs": [],
   "source": [
    "#sinonimele celui mai lung cuvant din text\n",
    "def sinonimele_func():\n",
    "    sentences=numar_secvente_func()\n",
    "    frecvente = []\n",
    "    for sentence in sentences:\n",
    "        words = re.findall(r'\\w+', sentence.lower())\n",
    "        freq = {word: words.count(word) for word in set(words)}\n",
    "        frecvente.append((sentence, freq))\n",
    "    return frecvente\n",
    "sinonimele_func()"
   ]
  }
 ],
 "metadata": {
  "kernelspec": {
   "display_name": "Python 3 (ipykernel)",
   "language": "python",
   "name": "python3"
  },
  "language_info": {
   "codemirror_mode": {
    "name": "ipython",
    "version": 3
   },
   "file_extension": ".py",
   "mimetype": "text/x-python",
   "name": "python",
   "nbconvert_exporter": "python",
   "pygments_lexer": "ipython3",
   "version": "3.11.9"
  }
 },
 "nbformat": 4,
 "nbformat_minor": 5
}
