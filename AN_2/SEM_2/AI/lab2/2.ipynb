{
 "cells": [
  {
   "cell_type": "code",
   "execution_count": 51,
   "id": "d053eda0-1263-4514-9b2e-cfa87fdb7499",
   "metadata": {},
   "outputs": [],
   "source": [
    "import numpy as np\n",
    "import pandas as p\n",
    "import matplotlib.pyplot as plt\n",
    "from skimage import io\n",
    "from skimage.feature import canny\n",
    "from skimage.color import rgb2gray\n",
    "from skimage.transform import resize\n",
    "import os\n",
    "import requests\n",
    "from PIL import Image,ImageFilter\n",
    "import cv2"
   ]
  },
  {
   "cell_type": "code",
   "execution_count": null,
   "id": "2e3cf565-a4d1-4a18-9197-5c7f44837b1c",
   "metadata": {},
   "outputs": [],
   "source": [
    "#sa se vizualizeze una din imagini\n",
    "def vizualizare_func():\n",
    "    images = os.listdir(\"pictures\")\n",
    "    image_path = os.path.join(\"pictures\", images[0])\n",
    "    img = Image.open(image_path)\n",
    "    plt.imshow(img)\n",
    "    plt.axis('off')  \n",
    "    plt.show()\n",
    "vizualizare_func()"
   ]
  },
  {
   "cell_type": "code",
   "execution_count": null,
   "id": "42b81658-5d29-483a-b80d-8b1b62fd33ed",
   "metadata": {},
   "outputs": [],
   "source": [
    "#daca imaginile nu aceeasi dimensiune, sa se redimensioneze toate la 128 x 128 pixeli si sa se vizualizeze imaginile intr-un cadru tabelar.\n",
    "def redimensioneaza_imagini_func(folder_path, size=(128, 128)):\n",
    "    images = os.listdir(folder_path)\n",
    "    resized_images = []\n",
    "    for image_name in images:\n",
    "        path = os.path.join(folder_path, image_name)\n",
    "        img = Image.open(path)\n",
    "        img_resized = img.resize(size)\n",
    "        resized_images.append(np.array(img_resized))\n",
    "    return resized_images\n",
    "\n",
    "def redimensioneaza_func():\n",
    "    folder_path = \"pictures\"\n",
    "    resized_images = redimensioneaza_imagini_func(folder_path)\n",
    "    num_images = len(resized_images)\n",
    "    num_columns = 4\n",
    "    num_rows = (num_images + num_columns - 1) // num_columns  \n",
    "    fig, axes = plt.subplots(num_rows, num_columns, figsize=(15, 4 * num_rows))\n",
    "    for i in range(num_rows):\n",
    "        for j in range(num_columns):\n",
    "            index = i * num_columns + j\n",
    "            if index < num_images:\n",
    "                axes[i, j].imshow(resized_images[index])\n",
    "                axes[i, j].axis('off')\n",
    "            else:\n",
    "                axes[i, j].axis('off')\n",
    "    \n",
    "    plt.show()\n",
    "\n",
    "redimensioneaza_func()"
   ]
  },
  {
   "cell_type": "code",
   "execution_count": null,
   "id": "4179cc01-20ef-46f9-9f59-51fa57992581",
   "metadata": {},
   "outputs": [],
   "source": [
    "#sa se transforme imaginile in format gray-levels si sa se vizualizeze\n",
    "def transforma_grayscale_func():\n",
    "    folder_path = \"pictures\"\n",
    "    resized_images = redimensioneaza_imagini_func(folder_path)\n",
    "    grayscale_images = []\n",
    "    for img in resized_images:\n",
    "        img_gray = Image.fromarray(img).convert('L') \n",
    "        grayscale_images.append(np.array(img_gray))\n",
    "    num_images = len(grayscale_images)\n",
    "    num_columns = 4\n",
    "    num_rows = (num_images + num_columns - 1) // num_columns  \n",
    "    fig, axes = plt.subplots(num_rows, num_columns, figsize=(15, 4 * num_rows))\n",
    "    for i in range(num_rows):\n",
    "        for j in range(num_columns):\n",
    "            index = i * num_columns + j\n",
    "            if index < num_images:\n",
    "                axes[i, j].imshow(grayscale_images[index], cmap='gray')\n",
    "                axes[i, j].axis('off')\n",
    "            else:\n",
    "                axes[i, j].axis('off')\n",
    "    plt.show()\n",
    "transforma_grayscale_func()\n"
   ]
  },
  {
   "cell_type": "code",
   "execution_count": null,
   "id": "58ae6d54-2d8e-420b-a2d7-2db36fdecbaa",
   "metadata": {},
   "outputs": [],
   "source": [
    "#sa se blureze o imagine si sa se afiseze in format \"before-after\"\n",
    "def aplica_blur_func():\n",
    "    folder_path = \"pictures\"\n",
    "    resized_images = redimensioneaza_imagini_func(folder_path)\n",
    "    img = Image.fromarray(resized_images[0])\n",
    "    blurred_img = img.filter(ImageFilter.BLUR)\n",
    "    fig, axes = plt.subplots(1, 2, figsize=(10, 5))\n",
    "    axes[0].imshow(resized_images[0])\n",
    "    axes[0].set_title('Before Blur')\n",
    "    axes[0].axis('off')\n",
    "    axes[1].imshow(np.array(blurred_img))\n",
    "    axes[1].set_title('After Blur')\n",
    "    axes[1].axis('off')\n",
    "    plt.show()\n",
    "\n",
    "aplica_blur_func()"
   ]
  },
  {
   "cell_type": "code",
   "execution_count": null,
   "id": "b08960a6-e5f7-4f67-bc13-2c0a9720dd1a",
   "metadata": {},
   "outputs": [],
   "source": [
    "#sa se identifice muchiile intr-o imagine si sa se afiseze in format \"before-after\"\n",
    "\n",
    "def detecteaza_muchii_func():\n",
    "    folder_path = \"pictures\"\n",
    "    resized_images = redimensioneaza_imagini_func(folder_path)\n",
    "    img_cv = np.array(resized_images[0])\n",
    "    edges = cv2.Canny(img_cv, 100, 200)\n",
    "    fig, axes = plt.subplots(1, 2, figsize=(10, 5))\n",
    "    axes[0].imshow(resized_images[0])\n",
    "    axes[0].set_title('Before Edge Detection')\n",
    "    axes[0].axis('off')\n",
    "    axes[1].imshow(edges, cmap='gray')\n",
    "    axes[1].set_title('After Edge Detection')\n",
    "    axes[1].axis('off')\n",
    "    plt.show()\n",
    "detecteaza_muchii_func()"
   ]
  }
 ],
 "metadata": {
  "kernelspec": {
   "display_name": "Python 3 (ipykernel)",
   "language": "python",
   "name": "python3"
  },
  "language_info": {
   "codemirror_mode": {
    "name": "ipython",
    "version": 3
   },
   "file_extension": ".py",
   "mimetype": "text/x-python",
   "name": "python",
   "nbconvert_exporter": "python",
   "pygments_lexer": "ipython3",
   "version": "3.11.9"
  }
 },
 "nbformat": 4,
 "nbformat_minor": 5
}
