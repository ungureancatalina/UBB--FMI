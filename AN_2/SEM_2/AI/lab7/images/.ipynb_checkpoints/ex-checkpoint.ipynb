{
 "cells": [
  {
   "cell_type": "code",
   "execution_count": null,
   "id": "db6ba1a1-c126-4898-97b7-f9756b27636e",
   "metadata": {},
   "outputs": [],
   "source": [
    "import numpy as np\n",
    "import os\n",
    "import cv2\n",
    "import matplotlib.pyplot as plt\n",
    "from sklearn.model_selection import train_test_split\n",
    "from sklearn.metrics import classification_report, accuracy_score\n",
    "from tensorflow.keras.models import Sequential\n",
    "from tensorflow.keras.layers import Dense, Flatten, Conv2D, MaxPooling2D\n",
    "from tensorflow.keras.utils import to_categorical\n",
    "from tensorflow.keras.optimizers import Adam"
   ]
  },
  {
   "cell_type": "code",
   "execution_count": 2,
   "id": "db0e89da-ba0a-4fb3-980e-689291ecce2a",
   "metadata": {},
   "outputs": [],
   "source": [
    "def incarca_imagini_din_directoare(cale_baza, dimensiune=(64, 64)):\n",
    "    \"\"\"\n",
    "    Incarca imaginile din directoarele 'sepia' si 'normal'\n",
    "    Redimensioneaza toate imaginile la dimensiunea data (default: 64x64)\n",
    "    Returneaza X (imagini) si y (etichete 0 = normal, 1 = sepia)\n",
    "    \"\"\"\n",
    "    X = []\n",
    "    y = []\n",
    "    for eticheta, subdir in enumerate(['normal', 'sepia']):\n",
    "        cale_completa = os.path.join(cale_baza, subdir)\n",
    "        for fisier in os.listdir(cale_completa):\n",
    "            img_path = os.path.join(cale_completa, fisier)\n",
    "            img = cv2.imread(img_path)\n",
    "            if img is not None:\n",
    "                img = cv2.resize(img, dimensiune)\n",
    "                img = img / 255.0  # normalizare\n",
    "                X.append(img)\n",
    "                y.append(eticheta)\n",
    "    return np.array(X), np.array(y)"
   ]
  },
  {
   "cell_type": "code",
   "execution_count": 3,
   "id": "03ae6d1d-7da7-410f-82c5-25286253c6a4",
   "metadata": {},
   "outputs": [],
   "source": [
    "def antreneaza_ann_tool(X_train, y_train, X_test, y_test):\n",
    "    \"\"\"\n",
    "    Creeaza si antreneaza o retea neuronala simpla (ANN) folosind Keras\n",
    "    pentru clasificarea imaginilor in 'normal' si 'sepia'.\n",
    "    \"\"\"\n",
    "    model = Sequential()\n",
    "    model.add(Flatten(input_shape=X_train.shape[1:]))\n",
    "    model.add(Dense(128, activation='relu'))\n",
    "    model.add(Dense(2, activation='softmax'))\n",
    "\n",
    "    model.compile(optimizer='adam', loss='sparse_categorical_crossentropy', metrics=['accuracy'])\n",
    "    model.fit(X_train, y_train, epochs=10, validation_data=(X_test, y_test))\n",
    "    y_pred = np.argmax(model.predict(X_test), axis=1)\n",
    "    print(\"\\n[Rezultate ANN Tool]\")\n",
    "    print(classification_report(y_test, y_pred))"
   ]
  },
  {
   "cell_type": "code",
   "execution_count": 4,
   "id": "5f389af2-9360-4b13-8923-1c28ae014086",
   "metadata": {},
   "outputs": [],
   "source": [
    "def testeaza_hiperparametri(X_train, y_train, X_test, y_test):\n",
    "    \"\"\"\n",
    "    Compara performanta ANN pentru diversi hiperparametri:\n",
    "    - numar de neuroni in stratul ascuns\n",
    "    - rata de invatare\n",
    "    \"\"\"\n",
    "    for neuroni in [64, 128, 256]:\n",
    "        for lr in [0.001, 0.01]:\n",
    "            print(f\"\\n[ANN hiperparametri] Neuroni: {neuroni}, Learning rate: {lr}\")\n",
    "            model = Sequential()\n",
    "            model.add(Flatten(input_shape=X_train.shape[1:]))\n",
    "            model.add(Dense(neuroni, activation='relu'))\n",
    "            model.add(Dense(2, activation='softmax'))\n",
    "            opt = Adam(learning_rate=lr)\n",
    "            model.compile(optimizer=opt, loss='sparse_categorical_crossentropy', metrics=['accuracy'])\n",
    "            model.fit(X_train, y_train, epochs=10, verbose=0)\n",
    "            y_pred = np.argmax(model.predict(X_test), axis=1)\n",
    "            acc = accuracy_score(y_test, y_pred)\n",
    "            print(\"Acuratete:\", acc)"
   ]
  },
  {
   "cell_type": "code",
   "execution_count": 5,
   "id": "fb4f58b1-61d6-4fbf-bd24-1a12fceed476",
   "metadata": {},
   "outputs": [],
   "source": [
    "def antreneaza_cnn_personalizat(X_train, y_train, X_test, y_test):\n",
    "    \"\"\"\n",
    "    Creeaza si antreneaza un model CNN pentru clasificare sepia vs normal.\n",
    "    \"\"\"\n",
    "    model = Sequential()\n",
    "    model.add(Conv2D(32, (3, 3), activation='relu', input_shape=X_train.shape[1:]))\n",
    "    model.add(MaxPooling2D(pool_size=(2, 2)))\n",
    "    model.add(Conv2D(64, (3, 3), activation='relu'))\n",
    "    model.add(MaxPooling2D(pool_size=(2, 2)))\n",
    "    model.add(Flatten())\n",
    "    model.add(Dense(64, activation='relu'))\n",
    "    model.add(Dense(2, activation='softmax'))\n",
    "\n",
    "    model.compile(optimizer='adam', loss='sparse_categorical_crossentropy', metrics=['accuracy'])\n",
    "    model.fit(X_train, y_train, epochs=10, validation_data=(X_test, y_test))\n",
    "    y_pred = np.argmax(model.predict(X_test), axis=1)\n",
    "    print(\"\\n[Rezultate CNN Cod Propriu]\")\n",
    "    print(classification_report(y_test, y_pred))"
   ]
  },
  {
   "cell_type": "code",
   "execution_count": null,
   "id": "9aad8107-39d2-4ddd-b313-3bd13017d48d",
   "metadata": {},
   "outputs": [],
   "source": [
    "def executa():\n",
    "    \"\"\"\n",
    "    Executa tot pipeline-ul de clasificare pe baza de imagini sepia vs normale.\n",
    "    \"\"\"\n",
    "    X, y = incarca_imagini_din_directoare(\"images\")\n",
    "    X_train, X_test, y_train, y_test = train_test_split(X, y, test_size=0.2, random_state=42)\n",
    "    # Tool ANN\n",
    "    antreneaza_ann_tool(X_train, y_train, X_test, y_test)\n",
    "    # Testare hiperparametri\n",
    "    testeaza_hiperparametri(X_train, y_train, X_test, y_test)\n",
    "    # Cod propriu CNN\n",
    "    antreneaza_cnn_personalizat(X_train, y_train, X_test, y_test)\n",
    "executa()"
   ]
  }
 ],
 "metadata": {
  "kernelspec": {
   "display_name": "Python 3 (ipykernel)",
   "language": "python",
   "name": "python3"
  },
  "language_info": {
   "codemirror_mode": {
    "name": "ipython",
    "version": 3
   },
   "file_extension": ".py",
   "mimetype": "text/x-python",
   "name": "python",
   "nbconvert_exporter": "python",
   "pygments_lexer": "ipython3",
   "version": "3.11.9"
  }
 },
 "nbformat": 4,
 "nbformat_minor": 5
}
