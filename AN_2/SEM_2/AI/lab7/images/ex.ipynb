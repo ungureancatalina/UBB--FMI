{
 "cells": [
  {
   "cell_type": "code",
   "execution_count": 102,
   "id": "db6ba1a1-c126-4898-97b7-f9756b27636e",
   "metadata": {},
   "outputs": [],
   "source": [
    "import numpy as np\n",
    "import matplotlib.pyplot as plt\n",
    "import os\n",
    "import cv2\n",
    "from sklearn.model_selection import train_test_split\n",
    "from sklearn.neural_network import MLPClassifier\n",
    "from sklearn.metrics import classification_report, accuracy_score, confusion_matrix, ConfusionMatrixDisplay\n",
    "import tensorflow as tf\n",
    "from tensorflow.keras.models import Sequential\n",
    "from tensorflow.keras.layers import Conv2D, MaxPooling2D, Flatten, Dense"
   ]
  },
  {
   "cell_type": "code",
   "execution_count": 103,
   "id": "db0e89da-ba0a-4fb3-980e-689291ecce2a",
   "metadata": {},
   "outputs": [],
   "source": [
    "''' \n",
    "Functie care incarca imaginile din subfolderele \"normal\" si \"sepia\".\n",
    "Returneaza X - imagini scalate si redimensionate, si y - etichete binare (0/1).\n",
    "'''\n",
    "def incarca_imagini_din_directoare(cale_baza, dimensiune=(64, 64)):\n",
    "    X, y = [], []\n",
    "    for label, subfolder in enumerate(['normal', 'sepia']):\n",
    "        cale_completa = os.path.join(cale_baza, subfolder)\n",
    "        for fisier in os.listdir(cale_completa):\n",
    "            img_path = os.path.join(cale_completa, fisier)\n",
    "            img = cv2.imread(img_path)\n",
    "            if img is not None:\n",
    "                img = cv2.resize(img, dimensiune)\n",
    "                img = img.astype('float32') / 255.0\n",
    "                X.append(img)\n",
    "                y.append(label)\n",
    "    return np.array(X), np.array(y)"
   ]
  },
  {
   "cell_type": "code",
   "execution_count": 104,
   "id": "74737d4f-e810-4ddf-bc6c-d5eb15426fc8",
   "metadata": {},
   "outputs": [],
   "source": [
    "''' \n",
    "Afiseaza distributia claselor (normal vs sepia) in histograma.\n",
    "Ajuta la verificarea echilibrului datasetului.\n",
    "'''\n",
    "def afiseaza_distributie_etichete(y):\n",
    "    plt.bar(['normal', 'sepia'], [np.sum(y == 0), np.sum(y == 1)], color=['#f8bbd0', '#ce93d8'])  \n",
    "    plt.title(\"Distributia etichetelor\", fontsize=14, color='#880e4f') \n",
    "    plt.ylabel(\"Numar imagini\", fontsize=12)\n",
    "    plt.grid(axis='y', linestyle='--', alpha=0.5)\n",
    "    plt.show()"
   ]
  },
  {
   "cell_type": "code",
   "execution_count": 105,
   "id": "52cc2d7a-0a38-448e-a236-2fb6ad4c003c",
   "metadata": {},
   "outputs": [],
   "source": [
    "''' \n",
    "Functie utilitara pentru evaluarea unui model de clasificare:\n",
    "- afiseaza classification report\n",
    "- afiseaza confusion matrix\n",
    "'''\n",
    "def evalueaza_model(y_test, y_pred, titlu=\"Evaluare model\"):\n",
    "    print(classification_report(y_test, y_pred, target_names=['normal', 'sepia'], zero_division=0))\n",
    "    cm = confusion_matrix(y_test, y_pred)\n",
    "    disp = ConfusionMatrixDisplay(confusion_matrix=cm, display_labels=['normal', 'sepia'])\n",
    "    disp.plot(cmap=plt.cm.PuRd) \n",
    "    plt.title(titlu)\n",
    "    plt.show()"
   ]
  },
  {
   "cell_type": "code",
   "execution_count": 106,
   "id": "03ae6d1d-7da7-410f-82c5-25286253c6a4",
   "metadata": {},
   "outputs": [],
   "source": [
    "''' \n",
    "Antreneaza un model ANN folosind MLPClassifier (sklearn).\n",
    "Foloseste imagini flattenate si afiseaza performanta modelului.\n",
    "'''\n",
    "def antreneaza_ann_pe_imagini(X, y):\n",
    "    X_flat = X.reshape((X.shape[0], -1))\n",
    "    X_train, X_test, y_train, y_test = train_test_split(X_flat, y, test_size=0.2, random_state=42)\n",
    "    model = MLPClassifier(hidden_layer_sizes=(64,), activation='relu', max_iter=500, solver='adam', verbose=False)\n",
    "    model.fit(X_train, y_train)\n",
    "    y_pred = model.predict(X_test)\n",
    "    print(\"\\n[Rezultate ANN - sklearn MLPClassifier (tool)]\")\n",
    "    evalueaza_model(y_test, y_pred, \"Confusion Matrix - ANN Tool\")"
   ]
  },
  {
   "cell_type": "code",
   "execution_count": 112,
   "id": "5f389af2-9360-4b13-8923-1c28ae014086",
   "metadata": {},
   "outputs": [],
   "source": [
    "''' \n",
    "Testeaza influenta hiperparametrilor asupra performantei ANN-ului.\n",
    "Se modifica numarul de neuroni si rata de invatare.\n",
    "'''\n",
    "def testeaza_hiperparametri_ann(X, y):\n",
    "    X_flat = X.reshape((X.shape[0], -1))\n",
    "    X_train, X_test, y_train, y_test = train_test_split(X_flat, y, test_size=0.2, random_state=42)\n",
    "    for neuroni in [64, 128]:\n",
    "        for lr in [0.001, 0.01]:\n",
    "            model = MLPClassifier(hidden_layer_sizes=(neuroni,), activation='relu', max_iter=500,\n",
    "                                  solver='adam', learning_rate_init=lr, random_state=42)\n",
    "            model.fit(X_train, y_train)\n",
    "            acc = accuracy_score(y_test, model.predict(X_test))\n",
    "            print(f\"[ANN hiperparametri] Neuroni: {neuroni}, Learning rate: {lr} -> Acuratete: {acc:.2f}\")"
   ]
  },
  {
   "cell_type": "code",
   "execution_count": 113,
   "id": "fb4f58b1-61d6-4fbf-bd24-1a12fceed476",
   "metadata": {},
   "outputs": [],
   "source": [
    "''' \n",
    "Antreneaza un CNN simplu (convolutional neural network) folosind Keras.\n",
    "Foloseste imagini direct (fara flatten), convolutii si maxpooling.\n",
    "'''\n",
    "def antreneaza_cnn_propriu(X, y):\n",
    "    X_train, X_test, y_train, y_test = train_test_split(X, y, test_size=0.2, random_state=42)\n",
    "    model = Sequential([\n",
    "        tf.keras.Input(shape=(64, 64, 3)),\n",
    "        Conv2D(32, (3, 3), activation='relu'),\n",
    "        MaxPooling2D((2, 2)),\n",
    "        Conv2D(64, (3, 3), activation='relu'),\n",
    "        MaxPooling2D((2, 2)),\n",
    "        Flatten(),\n",
    "        Dense(64, activation='relu'),\n",
    "        Dense(1, activation='sigmoid')\n",
    "    ])\n",
    "    model.compile(optimizer='adam', loss='binary_crossentropy', metrics=['accuracy'])\n",
    "    model.fit(X_train, y_train, epochs=10, validation_data=(X_test, y_test), verbose=1)\n",
    "    y_pred = (model.predict(X_test) > 0.5).astype(\"int32\")\n",
    "    print(\"\\n[Rezultate CNN Cod Propriu]\")\n",
    "    evalueaza_model(y_test, y_pred, \"Confusion Matrix - CNN\")"
   ]
  },
  {
   "cell_type": "code",
   "execution_count": 117,
   "id": "9aad8107-39d2-4ddd-b313-3bd13017d48d",
   "metadata": {},
   "outputs": [],
   "source": [
    "def antreneaza_ann_cod_propriu(X, y, epoci=1000, rata=0.01, dim_hidden=128):\n",
    "    \"\"\"\n",
    "    Implementeaza un model ANN simplu in NumPy.\n",
    "    Are un singur strat ascuns si foloseste tanh + sigmoid cu binary cross-entropy.\n",
    "    \"\"\"\n",
    "    X_flat = X.reshape((X.shape[0], -1))\n",
    "    X_train, X_test, y_train, y_test = train_test_split(X_flat, y, test_size=0.2, random_state=42)\n",
    "\n",
    "    y_train = y_train.reshape(-1, 1).astype(float)\n",
    "    y_test = y_test.reshape(-1, 1).astype(float)\n",
    "\n",
    "    def sigmoid(z):\n",
    "        return 1 / (1 + np.exp(-z))\n",
    "\n",
    "    def sigmoid_deriv(a):\n",
    "        return a * (1 - a)\n",
    "\n",
    "    def tanh(z):\n",
    "        return np.tanh(z)\n",
    "\n",
    "    def tanh_deriv(a):\n",
    "        return 1 - a ** 2\n",
    "\n",
    "    np.random.seed(42)\n",
    "    m, n = X_train.shape\n",
    "    W1 = np.random.randn(n, dim_hidden) * 0.01\n",
    "    b1 = np.zeros((1, dim_hidden))\n",
    "    W2 = np.random.randn(dim_hidden, 1) * 0.01\n",
    "    b2 = np.zeros((1, 1))\n",
    "\n",
    "    for _ in range(epoci):\n",
    "        # Forward\n",
    "        Z1 = X_train @ W1 + b1\n",
    "        A1 = tanh(Z1)\n",
    "        Z2 = A1 @ W2 + b2\n",
    "        A2 = sigmoid(Z2)\n",
    "        E = A2 - y_train\n",
    "        \n",
    "        dZ2 = E * sigmoid_deriv(A2)\n",
    "        dW2 = A1.T @ dZ2 / m\n",
    "        db2 = np.sum(dZ2, axis=0, keepdims=True) / m\n",
    "\n",
    "        dZ1 = dZ2 @ W2.T * tanh_deriv(A1)\n",
    "        dW1 = X_train.T @ dZ1 / m\n",
    "        db1 = np.sum(dZ1, axis=0, keepdims=True) / m\n",
    "\n",
    "        W2 -= rata * dW2\n",
    "        b2 -= rata * db2\n",
    "        W1 -= rata * dW1\n",
    "        b1 -= rata * db1\n",
    "\n",
    "    A1_test = tanh(X_test @ W1 + b1)\n",
    "    A2_test = sigmoid(A1_test @ W2 + b2)\n",
    "    predictii = (A2_test > 0.5).astype(int)\n",
    "\n",
    "    print(\"\\n[Rezultate ANN Cod Propriu (NumPy) - Imbunatatit]\")\n",
    "    print(classification_report(y_test, predictii, target_names=['normal', 'sepia'], zero_division=0))\n"
   ]
  },
  {
   "cell_type": "code",
   "execution_count": 118,
   "id": "6aaf9f67-52b4-473a-b2a5-b5686a023cf7",
   "metadata": {},
   "outputs": [],
   "source": [
    "''' \n",
    "Ruleaza toate componentele temei:\n",
    "- Incarcare date\n",
    "- Verificare distributie\n",
    "- Clasificare cu MLPClassifier (tool)\n",
    "- Testare hiperparametri\n",
    "- Clasificare cu ANN cod propriu\n",
    "- Clasificare cu CNN (cod propriu)\n",
    "'''\n",
    "def executa_tot_pipeline():\n",
    "    X, y = incarca_imagini_din_directoare(\"images\")\n",
    "    afiseaza_distributie_etichete(y)\n",
    "    print(\"--- Tool: MLPClassifier ANN ---\")\n",
    "    antreneaza_ann_pe_imagini(X, y)\n",
    "    print(\"\\n--- Hiperparametri ANN ---\")\n",
    "    testeaza_hiperparametri_ann(X, y)\n",
    "    print(\"\\n--- ANN Cod Propriu (NumPy) ---\")\n",
    "    antreneaza_ann_cod_propriu(X, y)\n",
    "    print(\"\\n--- CNN Cod Propriu ---\")\n",
    "    antreneaza_cnn_propriu(X, y)"
   ]
  },
  {
   "cell_type": "code",
   "execution_count": null,
   "id": "75546abd-c353-4e5b-9e32-32b1fdede077",
   "metadata": {},
   "outputs": [
    {
     "data": {
      "image/png": "[encoded data removed]",
      "text/plain": [
       "<Figure size 640x480 with 1 Axes>"
      ]
     },
     "metadata": {},
     "output_type": "display_data"
    },
    {
     "name": "stdout",
     "output_type": "stream",
     "text": [
      "--- Tool: MLPClassifier ANN ---\n"
     ]
    }
   ],
   "source": [
    "executa_tot_pipeline()"
   ]
  },
  {
   "cell_type": "code",
   "execution_count": null,
   "id": "fe7fa68e-84bc-44c6-9a6f-ea1d190aecf6",
   "metadata": {},
   "outputs": [],
   "source": []
  }
 ],
 "metadata": {
  "kernelspec": {
   "display_name": "Python 3 (ipykernel)",
   "language": "python",
   "name": "python3"
  },
  "language_info": {
   "codemirror_mode": {
    "name": "ipython",
    "version": 3
   },
   "file_extension": ".py",
   "mimetype": "text/x-python",
   "name": "python",
   "nbconvert_exporter": "python",
   "pygments_lexer": "ipython3",
   "version": "3.11.9"
  }
 },
 "nbformat": 4,
 "nbformat_minor": 5
}
