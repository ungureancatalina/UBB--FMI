{
 "cells": [
  {
   "cell_type": "code",
   "execution_count": 1,
   "id": "5e9ec335-078e-4132-968f-4ea8aadcd169",
   "metadata": {},
   "outputs": [
    {
     "name": "stdout",
     "output_type": "stream",
     "text": [
      "Descarcate 200 imagini in images/normal\n"
     ]
    },
    {
     "ename": "PermissionError",
     "evalue": "[Errno 13] Permission denied: 'images/normal\\\\.ipynb_checkpoints'",
     "output_type": "error",
     "traceback": [
      "\u001b[31m---------------------------------------------------------------------------\u001b[39m",
      "\u001b[31mPermissionError\u001b[39m                           Traceback (most recent call last)",
      "\u001b[36mCell\u001b[39m\u001b[36m \u001b[39m\u001b[32mIn[1]\u001b[39m\u001b[32m, line 64\u001b[39m\n\u001b[32m     62\u001b[39m \u001b[38;5;66;03m# Executie\u001b[39;00m\n\u001b[32m     63\u001b[39m descarca_imagini(KEYWORD, NR_IMAGINI)\n\u001b[32m---> \u001b[39m\u001b[32m64\u001b[39m \u001b[43maplica_sepia\u001b[49m\u001b[43m(\u001b[49m\u001b[43m)\u001b[49m\n",
      "\u001b[36mCell\u001b[39m\u001b[36m \u001b[39m\u001b[32mIn[1]\u001b[39m\u001b[32m, line 39\u001b[39m, in \u001b[36maplica_sepia\u001b[39m\u001b[34m(folder_normal, folder_sepia)\u001b[39m\n\u001b[32m     37\u001b[39m \u001b[38;5;28;01mfor\u001b[39;00m img_file \u001b[38;5;129;01min\u001b[39;00m os.listdir(folder_normal):\n\u001b[32m     38\u001b[39m     img_path = os.path.join(folder_normal, img_file)\n\u001b[32m---> \u001b[39m\u001b[32m39\u001b[39m     img = \u001b[43mImage\u001b[49m\u001b[43m.\u001b[49m\u001b[43mopen\u001b[49m\u001b[43m(\u001b[49m\u001b[43mimg_path\u001b[49m\u001b[43m)\u001b[49m.convert(\u001b[33m\"\u001b[39m\u001b[33mRGB\u001b[39m\u001b[33m\"\u001b[39m)\n\u001b[32m     40\u001b[39m     sepia_img = aplica_filtru_sepia(img)\n\u001b[32m     41\u001b[39m     sepia_img.save(os.path.join(folder_sepia, img_file))\n",
      "\u001b[36mFile \u001b[39m\u001b[32m~\\AppData\\Local\\Packages\\PythonSoftwareFoundation.Python.3.11_qbz5n2kfra8p0\\LocalCache\\local-packages\\Python311\\site-packages\\PIL\\Image.py:3465\u001b[39m, in \u001b[36mopen\u001b[39m\u001b[34m(fp, mode, formats)\u001b[39m\n\u001b[32m   3462\u001b[39m     filename = os.fspath(fp)\n\u001b[32m   3464\u001b[39m \u001b[38;5;28;01mif\u001b[39;00m filename:\n\u001b[32m-> \u001b[39m\u001b[32m3465\u001b[39m     fp = builtins.open(filename, \u001b[33m\"\u001b[39m\u001b[33mrb\u001b[39m\u001b[33m\"\u001b[39m)\n\u001b[32m   3466\u001b[39m     exclusive_fp = \u001b[38;5;28;01mTrue\u001b[39;00m\n\u001b[32m   3467\u001b[39m \u001b[38;5;28;01melse\u001b[39;00m:\n",
      "\u001b[31mPermissionError\u001b[39m: [Errno 13] Permission denied: 'images/normal\\\\.ipynb_checkpoints'"
     ]
    }
   ],
   "source": [
    "import os\n",
    "import requests\n",
    "from PIL import Image, ImageEnhance\n",
    "from io import BytesIO\n",
    "\n",
    "UNSPLASH_ACCESS_KEY = \"uRDplyznSct4Gd8KhAiXD04KtORchjhQOdDQ29cVqG0\"\n",
    "KEYWORD = \"portrait\"\n",
    "NR_IMAGINI = 200\n",
    "\n",
    "def descarca_imagini(keyword, nr_imagini=50, folder='images/normal'):\n",
    "    os.makedirs(folder, exist_ok=True)\n",
    "    url = \"https://api.unsplash.com/search/photos\"\n",
    "    page = 1\n",
    "    descarcate = 0\n",
    "\n",
    "    while descarcate < nr_imagini:\n",
    "        params = {\n",
    "            \"query\": keyword,\n",
    "            \"page\": page,\n",
    "            \"per_page\": 30,\n",
    "            \"client_id\": UNSPLASH_ACCESS_KEY\n",
    "        }\n",
    "        response = requests.get(url, params=params).json()\n",
    "        for img_data in response.get(\"results\", []):\n",
    "            if descarcate >= nr_imagini:\n",
    "                break\n",
    "            img_url = img_data[\"urls\"][\"small\"]\n",
    "            img_resp = requests.get(img_url)\n",
    "            img = Image.open(BytesIO(img_resp.content)).convert(\"RGB\")\n",
    "            img.save(f\"{folder}/{descarcate + 1}.jpg\")\n",
    "            descarcate += 1\n",
    "        page += 1\n",
    "    print(f\"Descarcate {descarcate} imagini in {folder}\")\n",
    "\n",
    "def aplica_sepia(folder_normal='images/normal', folder_sepia='images/sepia'):\n",
    "    os.makedirs(folder_sepia, exist_ok=True)\n",
    "    for img_file in os.listdir(folder_normal):\n",
    "        img_path = os.path.join(folder_normal, img_file)\n",
    "        img = Image.open(img_path).convert(\"RGB\")\n",
    "        sepia_img = aplica_filtru_sepia(img)\n",
    "        sepia_img.save(os.path.join(folder_sepia, img_file))\n",
    "    print(f\"Filtru sepia aplicat pentru imaginile din {folder_normal}\")\n",
    "\n",
    "def aplica_filtru_sepia(image):\n",
    "    width, height = image.size\n",
    "    pixels = image.load()  # accesez pixelii\n",
    "    for py in range(height):\n",
    "        for px in range(width):\n",
    "            r, g, b = pixels[px, py]\n",
    "\n",
    "            tr = int(0.393 * r + 0.769 * g + 0.189 * b)\n",
    "            tg = int(0.349 * r + 0.686 * g + 0.168 * b)\n",
    "            tb = int(0.272 * r + 0.534 * g + 0.131 * b)\n",
    "\n",
    "            pixels[px, py] = (\n",
    "                min(255, tr),\n",
    "                min(255, tg),\n",
    "                min(255, tb)\n",
    "            )\n",
    "    return image\n",
    "\n",
    "# Executie\n",
    "descarca_imagini(KEYWORD, NR_IMAGINI)\n",
    "aplica_sepia()\n"
   ]
  },
  {
   "cell_type": "code",
   "execution_count": null,
   "id": "34b9ab5f-0c42-4334-94cf-4e741f766a9f",
   "metadata": {},
   "outputs": [],
   "source": []
  }
 ],
 "metadata": {
  "kernelspec": {
   "display_name": "Python 3 (ipykernel)",
   "language": "python",
   "name": "python3"
  },
  "language_info": {
   "codemirror_mode": {
    "name": "ipython",
    "version": 3
   },
   "file_extension": ".py",
   "mimetype": "text/x-python",
   "name": "python",
   "nbconvert_exporter": "python",
   "pygments_lexer": "ipython3",
   "version": "3.11.9"
  }
 },
 "nbformat": 4,
 "nbformat_minor": 5
}
