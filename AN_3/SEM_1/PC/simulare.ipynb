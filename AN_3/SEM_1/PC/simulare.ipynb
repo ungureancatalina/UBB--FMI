{
 "cells": [
  {
   "cell_type": "code",
   "execution_count": 4,
   "id": "0e9aae5b-e2b9-4d73-a80d-5aa50b31cb92",
   "metadata": {},
   "outputs": [
    {
     "name": "stdout",
     "output_type": "stream",
     "text": [
      "Date procesate:\n",
      "   User       Context   Device  Time_Standard  Errors_Standard  \\\n",
      "0     1        zgomot   laptop            150                4   \n",
      "1     2  luminozitate  telefon            138                3   \n",
      "2     3       mișcare  tabletă            145                5   \n",
      "3     4    dispozitiv   laptop            155                4   \n",
      "4     5    dispozitiv  desktop            142                3   \n",
      "\n",
      "   Satisfaction_Standard  Time_AMID  Errors_AMID  Satisfaction_AMID  \\\n",
      "0                     72        130            3                 82   \n",
      "1                     75        118            2                 85   \n",
      "2                     70        125            4                 80   \n",
      "3                     68        135            3                 78   \n",
      "4                     74        122            2                 84   \n",
      "\n",
      "   Δ_time(%)  Δ_errors(%)  Δ_satisfaction(%)  \n",
      "0 -13.333333   -25.000000          13.888889  \n",
      "1 -14.492754   -33.333333          13.333333  \n",
      "2 -13.793103   -20.000000          14.285714  \n",
      "3 -12.903226   -25.000000          14.705882  \n",
      "4 -14.084507   -33.333333          13.513514  \n",
      "\n",
      "Rezultatele au fost salvate în results.csv\n"
     ]
    }
   ],
   "source": [
    "import pandas as pd\n",
    "\n",
    "df = pd.read_csv(\"input_data_experiment.csv\", sep=';', encoding=\"utf-8\")\n",
    "df.columns = df.columns.str.strip()      \n",
    "df.columns = df.columns.str.replace('\\ufeff', '')\n",
    "\n",
    "# Simulare îmbunătățiri AMID (fixe)\n",
    "df[\"Time_AMID\"] = df[\"Time_Standard\"] - 20\n",
    "df[\"Errors_AMID\"] = df[\"Errors_Standard\"] - 1\n",
    "df[\"Satisfaction_AMID\"] = df[\"Satisfaction_Standard\"] + 10\n",
    "\n",
    "# Calcul diferențe procentuale\n",
    "df[\"Δ_time(%)\"] = (df[\"Time_AMID\"] - df[\"Time_Standard\"]) / df[\"Time_Standard\"] * 100\n",
    "df[\"Δ_errors(%)\"] = (df[\"Errors_AMID\"] - df[\"Errors_Standard\"]) / df[\"Errors_Standard\"] * 100\n",
    "df[\"Δ_satisfaction(%)\"] = (df[\"Satisfaction_AMID\"] - df[\"Satisfaction_Standard\"]) / df[\"Satisfaction_Standard\"] * 100\n",
    "\n",
    "print(\"Date procesate:\")\n",
    "print(df.head())\n",
    "\n",
    "# 4️Salvare rezultate\n",
    "df.to_csv(\"results.csv\", index=False)\n",
    "print(\"\\nRezultatele au fost salvate în results.csv\")\n"
   ]
  },
  {
   "cell_type": "code",
   "execution_count": null,
   "id": "3302a895-7e70-4af3-9c59-69d753d7b3c7",
   "metadata": {},
   "outputs": [],
   "source": []
  }
 ],
 "metadata": {
  "kernelspec": {
   "display_name": "Python 3 (ipykernel)",
   "language": "python",
   "name": "python3"
  },
  "language_info": {
   "codemirror_mode": {
    "name": "ipython",
    "version": 3
   },
   "file_extension": ".py",
   "mimetype": "text/x-python",
   "name": "python",
   "nbconvert_exporter": "python",
   "pygments_lexer": "ipython3",
   "version": "3.11.9"
  }
 },
 "nbformat": 4,
 "nbformat_minor": 5
}
